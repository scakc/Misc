{
 "cells": [
  {
   "cell_type": "code",
   "execution_count": 2370,
   "metadata": {},
   "outputs": [],
   "source": [
    "import torch\n",
    "import torchvision\n",
    "from torchvision import datasets, transforms\n",
    "import matplotlib.pyplot as plt\n",
    "import torch.nn as nn\n",
    "import torch.nn.functional as F\n",
    "from IPython.display import clear_output as clr\n",
    "import os\n",
    "import numpy as np"
   ]
  },
  {
   "cell_type": "code",
   "execution_count": 2371,
   "metadata": {},
   "outputs": [
    {
     "data": {
      "text/plain": [
       "<torch.autograd.anomaly_mode.set_detect_anomaly at 0x7f1bba7115f8>"
      ]
     },
     "execution_count": 2371,
     "metadata": {},
     "output_type": "execute_result"
    }
   ],
   "source": [
    "device = \"cpu\"\n",
    "if(torch.cuda.is_available()):\n",
    "    deivce = \"gpu\"\n",
    "\n",
    "torch.autograd.set_detect_anomaly(True)"
   ]
  },
  {
   "cell_type": "code",
   "execution_count": 3966,
   "metadata": {},
   "outputs": [
    {
     "data": {
      "text/plain": [
       "<matplotlib.image.AxesImage at 0x7f1b7904f978>"
      ]
     },
     "execution_count": 3966,
     "metadata": {},
     "output_type": "execute_result"
    },
    {
     "data": {
      "image/png": "[encoded data removed]",
      "text/plain": [
       "<Figure size 432x288 with 4 Axes>"
      ]
     },
     "metadata": {
      "needs_background": "light"
     },
     "output_type": "display_data"
    },
    {
     "data": {
      "image/png": "[encoded data removed]",
      "text/plain": [
       "<Figure size 432x288 with 4 Axes>"
      ]
     },
     "metadata": {
      "needs_background": "light"
     },
     "output_type": "display_data"
    }
   ],
   "source": [
    "# Synthetic Data Genration\n",
    "\n",
    "'''Basis Generation'''\n",
    "k1 = np.zeros((6,6))\n",
    "k1[0:3,1] = 1.0\n",
    "k1[1,0:3] = 1.0\n",
    "\n",
    "k2 = np.zeros((6,6))\n",
    "k2[0:3,-3:] = 1.0\n",
    "k2[1,-2] = 0\n",
    "\n",
    "k3 = np.zeros((6,6))\n",
    "k3[-3:,0:3] = 1.0\n",
    "k3[-3:-1,2] = 0.0\n",
    "k3[-3,1:2] = 0.0\n",
    "\n",
    "k4 = np.zeros((6,6))\n",
    "k4[-3:,-2] = 1.0\n",
    "k4[-3,-3:] = 1.0\n",
    "\n",
    "fig, ax = plt.subplots(1,4)\n",
    "\n",
    "ax[0].imshow(k1)\n",
    "ax[1].imshow(k2)\n",
    "ax[2].imshow(k3)\n",
    "ax[3].imshow(k4)\n",
    "\n",
    "\n",
    "'''Data Generation'''\n",
    "\n",
    "train_size = 3000\n",
    "test_size = 500\n",
    "\n",
    "train_weights = np.random.rand(train_size, 4)\n",
    "train_data = np.dot(train_weights,np.array([k1.reshape(-1,1),k2.reshape(-1,1),k3.reshape(-1,1),k4.reshape(-1,1)]).reshape(4,-1))\n",
    "train_data += np.random.normal(0,0.01, size = train_data.shape)\n",
    "\n",
    "test_weights = np.random.rand(test_size, 4)\n",
    "test_data = np.dot(test_weights,np.array([k1.reshape(-1,1),k2.reshape(-1,1),k3.reshape(-1,1),k4.reshape(-1,1)]).reshape(4,-1))\n",
    "test_data += np.random.normal(0,0.01, size = test_data.shape)\n",
    "\n",
    "\n",
    "fig, ax = plt.subplots(1,4)\n",
    "\n",
    "ax[0].imshow(train_data[0].reshape(6,6))\n",
    "ax[1].imshow(train_data[300].reshape(6,6))\n",
    "ax[2].imshow(test_data[0].reshape(6,6))\n",
    "ax[3].imshow(test_data[300].reshape(6,6))"
   ]
  },
  {
   "cell_type": "code",
   "execution_count": 3967,
   "metadata": {},
   "outputs": [
    {
     "name": "stdout",
     "output_type": "stream",
     "text": [
      "Done !\n"
     ]
    }
   ],
   "source": [
    "BATCH_SIZE = 100\n",
    "\n",
    "trainloader = torch.utils.data.DataLoader(train_data.reshape(-1,1,6,6), batch_size=BATCH_SIZE,\n",
    "                                          shuffle=True, num_workers=2)\n",
    "print(\"Done !\")"
   ]
  },
  {
   "cell_type": "code",
   "execution_count": 3968,
   "metadata": {},
   "outputs": [
    {
     "data": {
      "image/png": "[encoded data removed]",
      "text/plain": [
       "<Figure size 432x288 with 1 Axes>"
      ]
     },
     "metadata": {
      "needs_background": "light"
     },
     "output_type": "display_data"
    }
   ],
   "source": [
    "def show_images(images):\n",
    "    images = torchvision.utils.make_grid(images)\n",
    "    show_image(images[0])\n",
    "\n",
    "def show_image(img):\n",
    "    plt.imshow(img, cmap='gray')\n",
    "    plt.show()\n",
    "\n",
    "dataiter = iter(trainloader)\n",
    "images = dataiter.next()\n",
    "show_images(images)"
   ]
  },
  {
   "cell_type": "code",
   "execution_count": 3969,
   "metadata": {},
   "outputs": [],
   "source": [
    "class GLM_NP(nn.Module):\n",
    "    def __init__(self, latent_variable_dim, alpha = 1.0, rholr = 10e-12):\n",
    "        super(GLM_NP, self).__init__()\n",
    "        \n",
    "        ### Global Params\n",
    "        self.eps1 = torch.tensor(10e-6).float()\n",
    "        self.eps2 = torch.tensor(10e-4).float()\n",
    "        \n",
    "        # V : Stick breaking : Beta {kumaraswamy}\n",
    "        self.aeys = nn.Parameter(torch.rand(1,latent_variable_dim) + 2)\n",
    "        self.bees = nn.Parameter(torch.rand(1,latent_variable_dim) + 2)\n",
    "        self.unif_sampler = torch.distributions.uniform.Uniform(self.eps1, 1-self.eps1)\n",
    "        \n",
    "        # IBP prior\n",
    "        self.alpha = alpha\n",
    "        self.euler_constant = np.e\n",
    "        \n",
    "        # Z : Bernoulli\n",
    "        self.phi = nn.Parameter(torch.randn((36 + 1),latent_variable_dim))\n",
    "        \n",
    "        # Gumbel Softmax params\n",
    "        self.temperature = 10\n",
    "        self.gumbel_sampler = torch.distributions.gumbel.Gumbel(0,1)\n",
    "        \n",
    "        # Basis\n",
    "        self.A = nn.Parameter(torch.randn(latent_variable_dim, 36))\n",
    "        \n",
    "        ### Russian Roulette part\n",
    "        self.rhos = torch.zeros(latent_variable_dim + 1,1) + 0.5\n",
    "        self.rholr = rholr\n",
    "        \n",
    "    \n",
    "    def reparameterize_gumbel_kumaraswamy(self, inter_z, p):\n",
    "        '''Proper Sampling is required with masking'''\n",
    "        \n",
    "        N, K = inter_z.shape\n",
    "        sample_size = 20\n",
    "        \n",
    "        U = self.unif_sampler.sample([N,K,sample_size])\n",
    "        G0 = self.gumbel_sampler.sample([N,K,sample_size])\n",
    "        G1 = self.gumbel_sampler.sample([N,K,sample_size])\n",
    "        \n",
    "#         logV = (-(U.log()/self.bees.view(1,K)).exp()).log1p()/self.aeys.view(1,K)\n",
    "        V = (1-U.pow(1/self.aeys[:,:K].view(-1,K,1))).pow(1/self.bees[:,:K].view(-1,K,1))\n",
    "        \n",
    "        pi = torch.zeros_like(V)+1\n",
    "        for i in range(K):\n",
    "            for j in range(i+1):\n",
    "                pi[:,i,:] *= V[:,j,:]\n",
    "        \n",
    "        rand_num = torch.rand_like(pi)\n",
    "        rand_logit = (rand_num/(1-rand_num)).log()\n",
    "        \n",
    "        \n",
    "        logit_pi = ((pi + self.eps1)/(1-pi + self.eps1)).log()\n",
    "        alpha = (logit_pi + inter_z.view(N,K,1) + rand_logit).sigmoid().pow(0.98)\n",
    "        \n",
    "        z1 = ((alpha + self.eps1).log() + G1)/self.temperature\n",
    "        z0 = ((1 - alpha + self.eps1).log() + G0)/self.temperature\n",
    "        \n",
    "        maxz = torch.max(z0,z1)\n",
    "        z1 = z1 - maxz\n",
    "        z0 = z0 - maxz\n",
    "        \n",
    "        logsumexp = (z1.exp() + z0.exp()).log()\n",
    "        \n",
    "        z1 = z1 - logsumexp + self.eps1\n",
    "        z0 = z0 - logsumexp + self.eps1\n",
    "        \n",
    "        y = z1.exp()/(z0.exp() + z1.exp())\n",
    "        \n",
    "#         if(p != 0):\n",
    "#             mask = torch.rand_like(y)*0\n",
    "#             mask[:,:p] = 1\n",
    "#         else:\n",
    "#             mask = 1\n",
    "        \n",
    "#         y = y*mask\n",
    "        \n",
    "        return y, alpha, pi\n",
    "        \n",
    "    def forward(self, input, k):\n",
    "        x = input.view(-1, 36)\n",
    "        N, D = x.shape\n",
    "        \n",
    "#         if(k != 0 and False):\n",
    "#             mask2 = torch.rand_like(self.phi)*0\n",
    "#             mask2[:,:k] = 1\n",
    "#         else:\n",
    "#             mask2 = 1\n",
    "            \n",
    "        \n",
    "        inter_z = self.phi # 785 x K\n",
    "        x_cat = torch.cat((input.view(N,36), torch.ones(N).view(N,-1)), 1).view(N,36+1) # N x 785\n",
    "        inter_z = torch.mm(x_cat, inter_z[:,:k]) # N x K\n",
    "        \n",
    "        z, gi, pi = self.reparameterize_gumbel_kumaraswamy(inter_z, k) # N x K\n",
    "#         print(z.shape)\n",
    "#         assert 1== 2\n",
    "        x = self.decode(z.mean(dim=-1).view(N,k), k)\n",
    "        \n",
    "        return x, z, gi, pi\n",
    "\n",
    "    \n",
    "    def decode(self, z, k):\n",
    "#         if(k != 0):\n",
    "#             mask = torch.rand_like(self.A)*0\n",
    "#             mask[:,:k] = 1\n",
    "#         else:\n",
    "#             mask = 1\n",
    "        x = F.linear(z, self.A.transpose(0,1)[:,:k])#.sigmoid()\n",
    "        \n",
    "        return x\n",
    "    \n",
    "    \n",
    "    def add_k_node(self, k):\n",
    "        # Add k latent features ...\n",
    "        if(k == 0):\n",
    "            return \n",
    "        with torch.no_grad():\n",
    "            self.aeys = nn.Parameter(torch.cat((self.aeys, torch.rand(1,k) + 2), 1))\n",
    "            self.bees = nn.Parameter(torch.cat((self.bees, torch.rand(1,k) + 2), 1))\n",
    "            \n",
    "            self.phi = nn.Parameter(torch.cat((self.phi, torch.randn((36 + 1),k)), 1))\n",
    "            self.A = nn.Parameter(torch.cat((self.A, torch.randn(k, 36)), 0))\n",
    "            \n",
    "            \n",
    "            self.rhos = torch.cat((self.rhos, torch.zeros(k,1) + 0.5), 0)\n",
    "    \n",
    "    def del_k_node(self, k):\n",
    "        # Retain k Latent Features ...\n",
    "        if(k == 0 or k == self.get_current_K()):\n",
    "            return\n",
    "        with torch.no_grad():\n",
    "            c_K = self.get_current_K()\n",
    "            \n",
    "            self.aeys = nn.Parameter(list(torch.split(self.aeys, c_K - k , 1))[0])\n",
    "            self.bees = nn.Parameter(list(torch.split(self.bees, c_K - k , 1))[0])\n",
    "            \n",
    "            self.phi = nn.Parameter(list(torch.split(self.phi, c_K - k , 1))[0])\n",
    "            self.A = nn.Parameter(list(torch.split(self.A, c_K - k , 0))[0])\n",
    "            \n",
    "            self.rhos = list(torch.split(self.rhos, c_K - k + 1, 0))[0]\n",
    "                             \n",
    "    def get_current_K(self):\n",
    "        return self.aeys.shape[1]\n",
    "    \n",
    "    def constraint_proj(self):\n",
    "        with torch.no_grad():\n",
    "            self.aeys[self.aeys < 0.001] = 0.001\n",
    "            self.bees[self.bees < 0.001] = 0.001\n",
    "            self.rhos[self.rhos < 10e-6] = 10e-6\n",
    "            self.rhos[self.rhos > 1 - 10e-6] = 1 - 10e-6"
   ]
  },
  {
   "cell_type": "code",
   "execution_count": 3970,
   "metadata": {},
   "outputs": [],
   "source": [
    "def get_kth_trunc_loss(model, images, K = 0):\n",
    "    \n",
    "    recon_image, z, gi, pi = model(images, K)\n",
    "    softplus = nn.Softplus()\n",
    "    eps = model.eps1\n",
    "    if(K == 0):\n",
    "        K = model.aeys.shape[1]\n",
    "    \n",
    "    z = z[:,:K]\n",
    "    pi = pi[:,:K]\n",
    "    gi = gi[:,:K]\n",
    "    \n",
    "    \n",
    "    KL_kuma = ((model.aeys - model.alpha)/(model.aeys))*(-model.euler_constant -torch.digamma(model.bees) - 1/model.bees)\n",
    "    KL_kuma += (model.aeys.log() + model.bees.log())\n",
    "    KL_kuma -= (model.bees - 1)/(model.bees)\n",
    "    \n",
    "#     print(KL_kuma)\n",
    "    KL_kuma = torch.sum(KL_kuma[:,:K])\\\n",
    "    \n",
    "    logit_pi = (pi+eps).log() - (1-pi+eps).log()\n",
    "    logit_x  =  (z+eps).log() - (1 -z+eps).log()\n",
    "    logit_gi = (gi+eps).log() - (1-gi+eps).log()\n",
    "    \n",
    "    \n",
    "\n",
    "    exp_term_p = logit_pi - logit_x*(model.temperature+1-1)\n",
    "    exp_term_q = logit_gi - logit_x*(model.temperature+1-1)\n",
    "    log_tau = torch.log(torch.tensor(model.temperature, requires_grad = False))\n",
    "    \n",
    "    \n",
    "#     print(exp_term_p[0], exp_term_q[0])\n",
    "    \n",
    "    \n",
    "    tau = model.temperature\n",
    "    \n",
    "#     log_pz = log_tau + exp_term_p - 2.0*((pi/(z+eps).pow(tau) + (1-pi)/((1-z+eps).pow(tau))).log())\n",
    "#     log_qz = log_tau + exp_term_q - 2.0*((gi/(z+eps).pow(tau) + (1-gi)/((1-z+eps).pow(tau))).log())\n",
    "    \n",
    "\n",
    "\n",
    "    \n",
    "    \n",
    "    log_pz = log_tau + exp_term_p - 2.0*softplus(exp_term_p)\n",
    "    log_qz = log_tau + exp_term_q - 2.0*softplus(exp_term_q)\n",
    "\n",
    "#     print(log_qz[0,:], log_pz[0,:])\n",
    "\n",
    "\n",
    "    \n",
    "#     Kt = torch.argmax(torch.arange(K)*(z[:,:K].sum(dim = 0) > 0).long()) + 1\n",
    "    \n",
    "    mask_K = torch.zeros_like(log_pz)\n",
    "    mask_K[:,:K] = 1\n",
    "    \n",
    "#     mask_Kt = torch.zeros_like(log_qz)\n",
    "#     mask_Kt[:,:K] = 1\n",
    "    \n",
    "    log_pz = (mask_K*log_pz)[log_pz == log_pz]\n",
    "    log_qz = (mask_K*log_qz)[log_qz == log_qz]\n",
    "\n",
    "    \n",
    "    KL_gumb = (log_qz - log_pz)\n",
    "    \n",
    "    KL_gumb = KL_gumb[KL_gumb == KL_gumb]\n",
    "#     print(KL_gumb)\n",
    "    KL_gumb = torch.sum(KL_gumb)\n",
    "    \n",
    "    \n",
    "    ''' Add some more KL terms from K||B ,  '''\n",
    "    \n",
    "    Lik = -0.5*(recon_image - images.view(-1,36)).pow(2)\n",
    "#     print(Lik[0])\n",
    "    Lik = torch.sum(Lik) - float(36*0.5*np.log(2*np.pi))\n",
    "#     Lik = -F.binary_cross_entropy(recon_image, images.view(-1, 36), reduction='sum')\n",
    "    \n",
    "    KL_l = KL_kuma + KL_gumb\n",
    "#     print(KL_kuma, KL_gumb)\n",
    "    print(Lik, KL_kuma, KL_gumb)\n",
    "#     \n",
    "#     assert(1==2)\n",
    "    return -Lik  + KL_l"
   ]
  },
  {
   "cell_type": "code",
   "execution_count": 3971,
   "metadata": {},
   "outputs": [],
   "source": [
    "def retain_k_nodes(model , new_K = 0):\n",
    "    \n",
    "    current_K = model.get_current_K()\n",
    "    if(current_K < new_K):\n",
    "        model.add_k_node(new_K - current_K)\n",
    "    elif(current_K > new_K):\n",
    "        model.del_k_node(current_K - new_K)\n",
    "    else:\n",
    "        pass\n",
    "    \n",
    "    optimizer = torch.optim.Adam(model.parameters(), 0.1)\n",
    "    \n",
    "    return optimizer"
   ]
  },
  {
   "cell_type": "code",
   "execution_count": 3972,
   "metadata": {},
   "outputs": [],
   "source": [
    "def rrs_loss(model, images, curr_K):\n",
    "    \n",
    "    l = torch.zeros(curr_K,1)\n",
    "    for i in range(curr_K):\n",
    "        l[i,:] = get_kth_trunc_loss(model, images, K = i+1)\n",
    "        \n",
    "    \n",
    "    one_minus_rho = (1 - model.rhos[1:curr_K+2]).view(curr_K,1)\n",
    "    \n",
    "    return l, one_minus_rho"
   ]
  },
  {
   "cell_type": "code",
   "execution_count": 3973,
   "metadata": {},
   "outputs": [],
   "source": [
    "def train_step(model, images, add_max = 5, sample = False):\n",
    "    \n",
    "    \"\"\" sample a trucation level and then do the same\"\"\"\n",
    "    \n",
    "    curr_K = model.get_current_K()\n",
    "    model.rhos[0] = 1\n",
    "    \n",
    "    optimizer = retain_k_nodes(model , new_K = curr_K + add_max)\n",
    "    \n",
    "    \n",
    "    \n",
    "    if(sample):\n",
    "        optimizer = retain_k_nodes(model , new_K = curr_K + add_max)\n",
    "\n",
    "        curr_K = model.get_current_K()\n",
    "        # Sample a truncation level\n",
    "        m_k = torch.zeros_like(model.rhos[:curr_K,:])\n",
    "        for i in range(curr_K):\n",
    "            prod = 1\n",
    "            for j in range(i+1):\n",
    "                prod*=model.rhos[j,:]\n",
    "\n",
    "            m_k[i,:] = (1-model.rhos[i+1])#*prod\n",
    "            \n",
    "        m_k /= m_k.sum()\n",
    "\n",
    "        new_values = np.random.choice(np.arange(curr_K)+1,size = 2, p = m_k.view(1,-1).numpy()[0])\n",
    "        new_value = int(np.max(new_values))\n",
    "\n",
    "\n",
    "        optimizer = retain_k_nodes(model , new_K = new_value)\n",
    "        \n",
    "    else:\n",
    "        new_value = curr_K\n",
    "        optimizer = retain_k_nodes(model , new_K = new_value)\n",
    "    \n",
    "\n",
    "    print(\"Current Truncated Level :\", new_value)\n",
    "    print(model.rhos)\n",
    "    optimizer.zero_grad()\n",
    "    curr_K = model.get_current_K()\n",
    "    \n",
    "    \n",
    "    l ,one_minus_rho = rrs_loss(model, images, curr_K)\n",
    "    l[l != l] = 0\n",
    "    l_final_params = (l*one_minus_rho).sum()\n",
    "    \n",
    "    \n",
    "    ws = torch.zeros(curr_K+1, curr_K)\n",
    "    \n",
    "    for k in range(1,curr_K+1):\n",
    "        for i in range(k-1,curr_K):\n",
    "            if(i < k-1):\n",
    "                ws[k,i] = 0\n",
    "            elif(i == k-1):\n",
    "                ws[k,i] = 1/(model.rhos[k] - 1)\n",
    "            else:\n",
    "                ws[k,i] = 1/model.rhos[k]\n",
    "            \n",
    "    \n",
    "    rho_grads = (ws[1:,:]*(-l)*one_minus_rho).sum(dim = 0)/len(images)\n",
    "    rho_grads[rho_grads != rho_grads] = 0.0\n",
    "    \n",
    "    model.rhos[1:,:] = model.rhos[1:,:] + model.rholr*(rho_grads.view(-1,1))\n",
    "    \n",
    "\n",
    "    \n",
    "    if(l_final_params != l_final_params):\n",
    "        pass\n",
    "    else:\n",
    "        l_final_params.backward()\n",
    "        optimizer.step()\n",
    "        \n",
    "    model.constraint_proj()\n",
    "    \n",
    "    return l_final_params"
   ]
  },
  {
   "cell_type": "code",
   "execution_count": 3977,
   "metadata": {},
   "outputs": [],
   "source": [
    "glm = GLM_NP(4,4,10e-5)"
   ]
  },
  {
   "cell_type": "code",
   "execution_count": 3978,
   "metadata": {},
   "outputs": [],
   "source": [
    "## train\n",
    "train_loss = []\n",
    "glm.temperature = 5.0"
   ]
  },
  {
   "cell_type": "code",
   "execution_count": 3979,
   "metadata": {},
   "outputs": [
    {
     "name": "stdout",
     "output_type": "stream",
     "text": [
      "Epoch no : 3 batch_no : 5 curr_loss : -122.2734375\n",
      "Current Truncated Level : 5\n",
      "tensor([[1.0000],\n",
      "        [0.6164],\n",
      "        [0.4982],\n",
      "        [0.3640],\n",
      "        [0.3250],\n",
      "        [0.7067]])\n",
      "tensor(-192.2537, grad_fn=<SubBackward0>) tensor(1.3140, grad_fn=<SumBackward0>) tensor(910.7057, grad_fn=<SumBackward0>)\n",
      "tensor(-169.9986, grad_fn=<SubBackward0>) tensor(1.8489, grad_fn=<SumBackward0>) tensor(-4515.1934, grad_fn=<SumBackward0>)\n",
      "tensor(-196.5285, grad_fn=<SubBackward0>) tensor(2.7501, grad_fn=<SumBackward0>) tensor(-10748.8721, grad_fn=<SumBackward0>)\n",
      "tensor(-176.4323, grad_fn=<SubBackward0>) tensor(3.7471, grad_fn=<SumBackward0>) tensor(-16914.7695, grad_fn=<SumBackward0>)\n",
      "tensor(-179.1626, grad_fn=<SubBackward0>) tensor(5.1657, grad_fn=<SumBackward0>) tensor(-22918.2070, grad_fn=<SumBackward0>)\n"
     ]
    },
    {
     "name": "stderr",
     "output_type": "stream",
     "text": [
      "sys:1: RuntimeWarning: Traceback of forward call that caused the error:\n",
      "  File \"/home/abhi/anaconda3/lib/python3.7/runpy.py\", line 193, in _run_module_as_main\n",
      "    \"__main__\", mod_spec)\n",
      "  File \"/home/abhi/anaconda3/lib/python3.7/runpy.py\", line 85, in _run_code\n",
      "    exec(code, run_globals)\n",
      "  File \"/home/abhi/anaconda3/lib/python3.7/site-packages/ipykernel_launcher.py\", line 16, in <module>\n",
      "    app.launch_new_instance()\n",
      "  File \"/home/abhi/anaconda3/lib/python3.7/site-packages/traitlets/config/application.py\", line 658, in launch_instance\n",
      "    app.start()\n",
      "  File \"/home/abhi/anaconda3/lib/python3.7/site-packages/ipykernel/kernelapp.py\", line 505, in start\n",
      "    self.io_loop.start()\n",
      "  File \"/home/abhi/anaconda3/lib/python3.7/site-packages/tornado/platform/asyncio.py\", line 148, in start\n",
      "    self.asyncio_loop.run_forever()\n",
      "  File \"/home/abhi/anaconda3/lib/python3.7/asyncio/base_events.py\", line 539, in run_forever\n",
      "    self._run_once()\n",
      "  File \"/home/abhi/anaconda3/lib/python3.7/asyncio/base_events.py\", line 1775, in _run_once\n",
      "    handle._run()\n",
      "  File \"/home/abhi/anaconda3/lib/python3.7/asyncio/events.py\", line 88, in _run\n",
      "    self._context.run(self._callback, *self._args)\n",
      "  File \"/home/abhi/anaconda3/lib/python3.7/site-packages/tornado/ioloop.py\", line 690, in <lambda>\n",
      "    lambda f: self._run_callback(functools.partial(callback, future))\n",
      "  File \"/home/abhi/anaconda3/lib/python3.7/site-packages/tornado/ioloop.py\", line 743, in _run_callback\n",
      "    ret = callback()\n",
      "  File \"/home/abhi/anaconda3/lib/python3.7/site-packages/tornado/gen.py\", line 781, in inner\n",
      "    self.run()\n",
      "  File \"/home/abhi/anaconda3/lib/python3.7/site-packages/tornado/gen.py\", line 742, in run\n",
      "    yielded = self.gen.send(value)\n",
      "  File \"/home/abhi/anaconda3/lib/python3.7/site-packages/ipykernel/kernelbase.py\", line 357, in process_one\n",
      "    yield gen.maybe_future(dispatch(*args))\n",
      "  File \"/home/abhi/anaconda3/lib/python3.7/site-packages/tornado/gen.py\", line 209, in wrapper\n",
      "    yielded = next(result)\n",
      "  File \"/home/abhi/anaconda3/lib/python3.7/site-packages/ipykernel/kernelbase.py\", line 267, in dispatch_shell\n",
      "    yield gen.maybe_future(handler(stream, idents, msg))\n",
      "  File \"/home/abhi/anaconda3/lib/python3.7/site-packages/tornado/gen.py\", line 209, in wrapper\n",
      "    yielded = next(result)\n",
      "  File \"/home/abhi/anaconda3/lib/python3.7/site-packages/ipykernel/kernelbase.py\", line 534, in execute_request\n",
      "    user_expressions, allow_stdin,\n",
      "  File \"/home/abhi/anaconda3/lib/python3.7/site-packages/tornado/gen.py\", line 209, in wrapper\n",
      "    yielded = next(result)\n",
      "  File \"/home/abhi/anaconda3/lib/python3.7/site-packages/ipykernel/ipkernel.py\", line 294, in do_execute\n",
      "    res = shell.run_cell(code, store_history=store_history, silent=silent)\n",
      "  File \"/home/abhi/anaconda3/lib/python3.7/site-packages/ipykernel/zmqshell.py\", line 536, in run_cell\n",
      "    return super(ZMQInteractiveShell, self).run_cell(*args, **kwargs)\n",
      "  File \"/home/abhi/anaconda3/lib/python3.7/site-packages/IPython/core/interactiveshell.py\", line 2848, in run_cell\n",
      "    raw_cell, store_history, silent, shell_futures)\n",
      "  File \"/home/abhi/anaconda3/lib/python3.7/site-packages/IPython/core/interactiveshell.py\", line 2874, in _run_cell\n",
      "    return runner(coro)\n",
      "  File \"/home/abhi/anaconda3/lib/python3.7/site-packages/IPython/core/async_helpers.py\", line 67, in _pseudo_sync_runner\n",
      "    coro.send(None)\n",
      "  File \"/home/abhi/anaconda3/lib/python3.7/site-packages/IPython/core/interactiveshell.py\", line 3049, in run_cell_async\n",
      "    interactivity=interactivity, compiler=compiler, result=result)\n",
      "  File \"/home/abhi/anaconda3/lib/python3.7/site-packages/IPython/core/interactiveshell.py\", line 3214, in run_ast_nodes\n",
      "    if (yield from self.run_code(code, result)):\n",
      "  File \"/home/abhi/anaconda3/lib/python3.7/site-packages/IPython/core/interactiveshell.py\", line 3296, in run_code\n",
      "    exec(code_obj, self.user_global_ns, self.user_ns)\n",
      "  File \"<ipython-input-3979-dde4f9ed41e2>\", line 17, in <module>\n",
      "    l = train_step(glm, images, 1, False)\n",
      "  File \"<ipython-input-3973-eafca41bc7ae>\", line 44, in train_step\n",
      "    l ,one_minus_rho = rrs_loss(model, images, curr_K)\n",
      "  File \"<ipython-input-3972-60c74ceda596>\", line 5, in rrs_loss\n",
      "    l[i,:] = get_kth_trunc_loss(model, images, K = i+1)\n",
      "  File \"<ipython-input-3970-673b0739aee8>\", line 3, in get_kth_trunc_loss\n",
      "    recon_image, z, gi, pi = model(images, K)\n",
      "  File \"/home/abhi/anaconda3/lib/python3.7/site-packages/torch/nn/modules/module.py\", line 493, in __call__\n",
      "    result = self.forward(*input, **kwargs)\n",
      "  File \"<ipython-input-3969-eafceee7c013>\", line 97, in forward\n",
      "    z, gi, pi = self.reparameterize_gumbel_kumaraswamy(inter_z, k) # N x K\n",
      "  File \"<ipython-input-3969-eafceee7c013>\", line 56, in reparameterize_gumbel_kumaraswamy\n",
      "    alpha = (logit_pi + inter_z.view(N,K,1) + rand_logit).sigmoid().pow(0.98)\n",
      "\n"
     ]
    },
    {
     "ename": "RuntimeError",
     "evalue": "Function 'SigmoidBackward' returned nan values in its 0th output.",
     "output_type": "error",
     "traceback": [
      "\u001b[0;31m---------------------------------------------------------------------------\u001b[0m",
      "\u001b[0;31mRuntimeError\u001b[0m                              Traceback (most recent call last)",
      "\u001b[0;32m<ipython-input-3979-dde4f9ed41e2>\u001b[0m in \u001b[0;36m<module>\u001b[0;34m\u001b[0m\n\u001b[1;32m     15\u001b[0m             \u001b[0ml\u001b[0m \u001b[0;34m=\u001b[0m \u001b[0mtrain_step\u001b[0m\u001b[0;34m(\u001b[0m\u001b[0mglm\u001b[0m\u001b[0;34m,\u001b[0m \u001b[0mimages\u001b[0m\u001b[0;34m,\u001b[0m \u001b[0;36m1\u001b[0m\u001b[0;34m,\u001b[0m \u001b[0;32mTrue\u001b[0m\u001b[0;34m)\u001b[0m\u001b[0;34m\u001b[0m\u001b[0;34m\u001b[0m\u001b[0m\n\u001b[1;32m     16\u001b[0m         \u001b[0;32melse\u001b[0m\u001b[0;34m:\u001b[0m\u001b[0;34m\u001b[0m\u001b[0;34m\u001b[0m\u001b[0m\n\u001b[0;32m---> 17\u001b[0;31m             \u001b[0ml\u001b[0m \u001b[0;34m=\u001b[0m \u001b[0mtrain_step\u001b[0m\u001b[0;34m(\u001b[0m\u001b[0mglm\u001b[0m\u001b[0;34m,\u001b[0m \u001b[0mimages\u001b[0m\u001b[0;34m,\u001b[0m \u001b[0;36m1\u001b[0m\u001b[0;34m,\u001b[0m \u001b[0;32mFalse\u001b[0m\u001b[0;34m)\u001b[0m\u001b[0;34m\u001b[0m\u001b[0;34m\u001b[0m\u001b[0m\n\u001b[0m\u001b[1;32m     18\u001b[0m \u001b[0;31m#         except:\u001b[0m\u001b[0;34m\u001b[0m\u001b[0;34m\u001b[0m\u001b[0;34m\u001b[0m\u001b[0m\n\u001b[1;32m     19\u001b[0m \u001b[0;31m#             pass\u001b[0m\u001b[0;34m\u001b[0m\u001b[0;34m\u001b[0m\u001b[0;34m\u001b[0m\u001b[0m\n",
      "\u001b[0;32m<ipython-input-3973-eafca41bc7ae>\u001b[0m in \u001b[0;36mtrain_step\u001b[0;34m(model, images, add_max, sample)\u001b[0m\n\u001b[1;32m     69\u001b[0m         \u001b[0;32mpass\u001b[0m\u001b[0;34m\u001b[0m\u001b[0;34m\u001b[0m\u001b[0m\n\u001b[1;32m     70\u001b[0m     \u001b[0;32melse\u001b[0m\u001b[0;34m:\u001b[0m\u001b[0;34m\u001b[0m\u001b[0;34m\u001b[0m\u001b[0m\n\u001b[0;32m---> 71\u001b[0;31m         \u001b[0ml_final_params\u001b[0m\u001b[0;34m.\u001b[0m\u001b[0mbackward\u001b[0m\u001b[0;34m(\u001b[0m\u001b[0;34m)\u001b[0m\u001b[0;34m\u001b[0m\u001b[0;34m\u001b[0m\u001b[0m\n\u001b[0m\u001b[1;32m     72\u001b[0m         \u001b[0moptimizer\u001b[0m\u001b[0;34m.\u001b[0m\u001b[0mstep\u001b[0m\u001b[0;34m(\u001b[0m\u001b[0;34m)\u001b[0m\u001b[0;34m\u001b[0m\u001b[0;34m\u001b[0m\u001b[0m\n\u001b[1;32m     73\u001b[0m \u001b[0;34m\u001b[0m\u001b[0m\n",
      "\u001b[0;32m~/anaconda3/lib/python3.7/site-packages/torch/tensor.py\u001b[0m in \u001b[0;36mbackward\u001b[0;34m(self, gradient, retain_graph, create_graph)\u001b[0m\n\u001b[1;32m    105\u001b[0m                 \u001b[0mproducts\u001b[0m\u001b[0;34m.\u001b[0m \u001b[0mDefaults\u001b[0m \u001b[0mto\u001b[0m\u001b[0;31m \u001b[0m\u001b[0;31m`\u001b[0m\u001b[0;31m`\u001b[0m\u001b[0;32mFalse\u001b[0m\u001b[0;31m`\u001b[0m\u001b[0;31m`\u001b[0m\u001b[0;34m.\u001b[0m\u001b[0;34m\u001b[0m\u001b[0;34m\u001b[0m\u001b[0m\n\u001b[1;32m    106\u001b[0m         \"\"\"\n\u001b[0;32m--> 107\u001b[0;31m         \u001b[0mtorch\u001b[0m\u001b[0;34m.\u001b[0m\u001b[0mautograd\u001b[0m\u001b[0;34m.\u001b[0m\u001b[0mbackward\u001b[0m\u001b[0;34m(\u001b[0m\u001b[0mself\u001b[0m\u001b[0;34m,\u001b[0m \u001b[0mgradient\u001b[0m\u001b[0;34m,\u001b[0m \u001b[0mretain_graph\u001b[0m\u001b[0;34m,\u001b[0m \u001b[0mcreate_graph\u001b[0m\u001b[0;34m)\u001b[0m\u001b[0;34m\u001b[0m\u001b[0;34m\u001b[0m\u001b[0m\n\u001b[0m\u001b[1;32m    108\u001b[0m \u001b[0;34m\u001b[0m\u001b[0m\n\u001b[1;32m    109\u001b[0m     \u001b[0;32mdef\u001b[0m \u001b[0mregister_hook\u001b[0m\u001b[0;34m(\u001b[0m\u001b[0mself\u001b[0m\u001b[0;34m,\u001b[0m \u001b[0mhook\u001b[0m\u001b[0;34m)\u001b[0m\u001b[0;34m:\u001b[0m\u001b[0;34m\u001b[0m\u001b[0;34m\u001b[0m\u001b[0m\n",
      "\u001b[0;32m~/anaconda3/lib/python3.7/site-packages/torch/autograd/__init__.py\u001b[0m in \u001b[0;36mbackward\u001b[0;34m(tensors, grad_tensors, retain_graph, create_graph, grad_variables)\u001b[0m\n\u001b[1;32m     91\u001b[0m     Variable._execution_engine.run_backward(\n\u001b[1;32m     92\u001b[0m         \u001b[0mtensors\u001b[0m\u001b[0;34m,\u001b[0m \u001b[0mgrad_tensors\u001b[0m\u001b[0;34m,\u001b[0m \u001b[0mretain_graph\u001b[0m\u001b[0;34m,\u001b[0m \u001b[0mcreate_graph\u001b[0m\u001b[0;34m,\u001b[0m\u001b[0;34m\u001b[0m\u001b[0;34m\u001b[0m\u001b[0m\n\u001b[0;32m---> 93\u001b[0;31m         allow_unreachable=True)  # allow_unreachable flag\n\u001b[0m\u001b[1;32m     94\u001b[0m \u001b[0;34m\u001b[0m\u001b[0m\n\u001b[1;32m     95\u001b[0m \u001b[0;34m\u001b[0m\u001b[0m\n",
      "\u001b[0;31mRuntimeError\u001b[0m: Function 'SigmoidBackward' returned nan values in its 0th output."
     ]
    }
   ],
   "source": [
    "# optimizer = torch.optim.Adam(glm.parameters(), 0.02)\n",
    "for epoch in range(50):\n",
    "    \n",
    "        \n",
    "    for i, data in enumerate(trainloader, 0):\n",
    "        images = data.float()\n",
    "        images = images.to(device)\n",
    "\n",
    "#         try:\n",
    "        if((i+1)%20 == 0 and True):\n",
    "        \n",
    "            glm.temperature /= 3\n",
    "            if(glm.temperature < .2):\n",
    "                glm.temperature = 0.2\n",
    "            l = train_step(glm, images, 1, True)\n",
    "        else:\n",
    "            l = train_step(glm, images, 1, False)\n",
    "#         except:\n",
    "#             pass\n",
    "        \n",
    "        train_loss.append((l/((1 - glm.rhos[:-1]).sum())).item() / len(images))\n",
    "\n",
    "\n",
    "#         optimizer.zero_grad()\n",
    "#         l = get_kth_trunc_loss(glm, images, K = 0)\n",
    "#         try:\n",
    "#             l.backward()\n",
    "#         except:\n",
    "#             pass\n",
    "#         train_loss.append(l.item() / len(images))\n",
    "#         optimizer.step()\n",
    "    \n",
    "        \n",
    "\n",
    "        if(i%1 == 0):\n",
    "            clr(wait = True)\n",
    "            print(\"Epoch no :\", epoch + 1, \"batch_no :\", i, \"curr_loss :\",  train_loss[-1])\n",
    "        \n",
    "plt.plot(train_loss)\n",
    "plt.show()"
   ]
  },
  {
   "cell_type": "code",
   "execution_count": 3980,
   "metadata": {},
   "outputs": [
    {
     "data": {
      "image/png": "[encoded data removed]",
      "text/plain": [
       "<Figure size 432x288 with 5 Axes>"
      ]
     },
     "metadata": {
      "needs_background": "light"
     },
     "output_type": "display_data"
    }
   ],
   "source": [
    "K = max(glm.get_current_K(),2)\n",
    "fig, ax = plt.subplots(1,K)\n",
    "for i in range(K):\n",
    "    ax[i].imshow((glm.A[i]).view(6,6).detach(), cmap= 'gray')\n",
    "plt.show()"
   ]
  },
  {
   "cell_type": "code",
   "execution_count": null,
   "metadata": {},
   "outputs": [],
   "source": []
  },
  {
   "cell_type": "code",
   "execution_count": 3960,
   "metadata": {},
   "outputs": [
    {
     "data": {
      "text/plain": [
       "0.5"
      ]
     },
     "execution_count": 3960,
     "metadata": {},
     "output_type": "execute_result"
    }
   ],
   "source": [
    "glm.temperature"
   ]
  },
  {
   "cell_type": "code",
   "execution_count": 3917,
   "metadata": {},
   "outputs": [
    {
     "data": {
      "text/plain": [
       "Parameter containing:\n",
       "tensor([[ 9.0185, 10.2534, 10.3426,  7.8936,  5.0514,  2.3895]],\n",
       "       requires_grad=True)"
      ]
     },
     "execution_count": 3917,
     "metadata": {},
     "output_type": "execute_result"
    }
   ],
   "source": [
    "glm.aeys"
   ]
  },
  {
   "cell_type": "code",
   "execution_count": 3918,
   "metadata": {},
   "outputs": [
    {
     "data": {
      "text/plain": [
       "Parameter containing:\n",
       "tensor([[0.6312, 1.1270, 2.2884, 2.1963, 1.6916, 2.3971]], requires_grad=True)"
      ]
     },
     "execution_count": 3918,
     "metadata": {},
     "output_type": "execute_result"
    }
   ],
   "source": [
    "glm.bees"
   ]
  },
  {
   "cell_type": "code",
   "execution_count": 3919,
   "metadata": {},
   "outputs": [
    {
     "data": {
      "text/plain": [
       "tensor([[1.0000],\n",
       "        [0.8880],\n",
       "        [0.7461],\n",
       "        [0.6350],\n",
       "        [0.3880],\n",
       "        [0.5279],\n",
       "        [0.9955]], grad_fn=<CopySlices>)"
      ]
     },
     "execution_count": 3919,
     "metadata": {},
     "output_type": "execute_result"
    }
   ],
   "source": [
    "glm.rhos"
   ]
  },
  {
   "cell_type": "code",
   "execution_count": 3728,
   "metadata": {},
   "outputs": [
    {
     "data": {
      "text/plain": [
       "0.9999183555414849"
      ]
     },
     "execution_count": 3728,
     "metadata": {},
     "output_type": "execute_result"
    }
   ],
   "source": [
    "train_data.max()"
   ]
  },
  {
   "cell_type": "code",
   "execution_count": 3692,
   "metadata": {},
   "outputs": [
    {
     "name": "stdout",
     "output_type": "stream",
     "text": [
      "tensor(-171.8081, grad_fn=<SubBackward0>) tensor(229.1926, grad_fn=<SumBackward0>) tensor(-691.1736, grad_fn=<SumBackward0>)\n",
      "tensor(-197.3585, grad_fn=<SubBackward0>) tensor(236.7233, grad_fn=<SumBackward0>) tensor(-709.1802, grad_fn=<SumBackward0>)\n"
     ]
    },
    {
     "ename": "RuntimeError",
     "evalue": "shape '[2, 1]' is invalid for input of size 3",
     "output_type": "error",
     "traceback": [
      "\u001b[0;31m---------------------------------------------------------------------------\u001b[0m",
      "\u001b[0;31mRuntimeError\u001b[0m                              Traceback (most recent call last)",
      "\u001b[0;32m<ipython-input-3692-457a93486908>\u001b[0m in \u001b[0;36m<module>\u001b[0;34m\u001b[0m\n\u001b[0;32m----> 1\u001b[0;31m \u001b[0mrrs_loss\u001b[0m\u001b[0;34m(\u001b[0m\u001b[0mglm\u001b[0m\u001b[0;34m,\u001b[0m \u001b[0mimages\u001b[0m\u001b[0;34m,\u001b[0m \u001b[0;36m2\u001b[0m\u001b[0;34m)\u001b[0m\u001b[0;34m\u001b[0m\u001b[0;34m\u001b[0m\u001b[0m\n\u001b[0m",
      "\u001b[0;32m<ipython-input-3681-60c74ceda596>\u001b[0m in \u001b[0;36mrrs_loss\u001b[0;34m(model, images, curr_K)\u001b[0m\n\u001b[1;32m      6\u001b[0m \u001b[0;34m\u001b[0m\u001b[0m\n\u001b[1;32m      7\u001b[0m \u001b[0;34m\u001b[0m\u001b[0m\n\u001b[0;32m----> 8\u001b[0;31m     \u001b[0mone_minus_rho\u001b[0m \u001b[0;34m=\u001b[0m \u001b[0;34m(\u001b[0m\u001b[0;36m1\u001b[0m \u001b[0;34m-\u001b[0m \u001b[0mmodel\u001b[0m\u001b[0;34m.\u001b[0m\u001b[0mrhos\u001b[0m\u001b[0;34m[\u001b[0m\u001b[0;36m1\u001b[0m\u001b[0;34m:\u001b[0m\u001b[0mcurr_K\u001b[0m\u001b[0;34m+\u001b[0m\u001b[0;36m2\u001b[0m\u001b[0;34m]\u001b[0m\u001b[0;34m)\u001b[0m\u001b[0;34m.\u001b[0m\u001b[0mview\u001b[0m\u001b[0;34m(\u001b[0m\u001b[0mcurr_K\u001b[0m\u001b[0;34m,\u001b[0m\u001b[0;36m1\u001b[0m\u001b[0;34m)\u001b[0m\u001b[0;34m\u001b[0m\u001b[0;34m\u001b[0m\u001b[0m\n\u001b[0m\u001b[1;32m      9\u001b[0m \u001b[0;34m\u001b[0m\u001b[0m\n\u001b[1;32m     10\u001b[0m     \u001b[0;32mreturn\u001b[0m \u001b[0ml\u001b[0m\u001b[0;34m,\u001b[0m \u001b[0mone_minus_rho\u001b[0m\u001b[0;34m\u001b[0m\u001b[0;34m\u001b[0m\u001b[0m\n",
      "\u001b[0;31mRuntimeError\u001b[0m: shape '[2, 1]' is invalid for input of size 3"
     ]
    }
   ],
   "source": [
    "rrs_loss(glm, images, 2)"
   ]
  },
  {
   "cell_type": "code",
   "execution_count": 3920,
   "metadata": {},
   "outputs": [
    {
     "name": "stdout",
     "output_type": "stream",
     "text": [
      "tensor(0)\n"
     ]
    }
   ],
   "source": [
    "for i in range(100):\n",
    "    x, z , zi , pi = glm(images,3)\n",
    "    val = (x != x).sum()\n",
    "    print(val)\n",
    "    clr(wait= True)\n",
    "    if(val>0):\n",
    "        break"
   ]
  },
  {
   "cell_type": "code",
   "execution_count": 3881,
   "metadata": {},
   "outputs": [
    {
     "data": {
      "text/plain": [
       "tensor([[0.4982, 0.3326, 0.4764, 0.7702, 0.7935, 0.3854, 0.1455, 0.2480, 0.5870,\n",
       "         0.3403, 0.7274, 0.1689, 0.1658, 0.3739, 0.4096, 0.5540, 0.3415, 0.7012,\n",
       "         0.3872, 0.3666],\n",
       "        [0.4010, 0.1600, 0.1701, 0.4697, 0.3739, 0.0537,    nan, 0.1024, 0.1783,\n",
       "         0.1664, 0.0337, 0.1262, 0.0352, 0.2699, 0.1727, 0.1628, 0.1440, 0.3571,\n",
       "         0.0842, 0.1659],\n",
       "        [0.2589, 0.0623, 0.0345, 0.2622, 0.1843, 0.0309,    nan, 0.0846, 0.0232,\n",
       "         0.0427, 0.0160, 0.0717, 0.0255, 0.1978, 0.0687, 0.0720, 0.0946, 0.1493,\n",
       "         0.0800, 0.1114]], grad_fn=<SliceBackward>)"
      ]
     },
     "execution_count": 3881,
     "metadata": {},
     "output_type": "execute_result"
    }
   ],
   "source": [
    "pi[11,:]"
   ]
  },
  {
   "cell_type": "code",
   "execution_count": 3882,
   "metadata": {},
   "outputs": [
    {
     "data": {
      "text/plain": [
       "tensor([0.1599, 0.3681, 0.1899, 0.4187, 0.5601, 0.1870, 0.1079, 0.2163, 0.3314,\n",
       "        0.2703, 0.4668, 0.2703, 0.0325, 0.0561, 0.3350, 0.0725, 0.3242, 0.4107,\n",
       "        0.1942, 0.2119], grad_fn=<SliceBackward>)"
      ]
     },
     "execution_count": 3882,
     "metadata": {},
     "output_type": "execute_result"
    }
   ],
   "source": [
    "pi[83,1,:]"
   ]
  },
  {
   "cell_type": "code",
   "execution_count": 3883,
   "metadata": {},
   "outputs": [
    {
     "data": {
      "text/plain": [
       "Parameter containing:\n",
       "tensor([[2.4431, 3.1653, 2.8721, 2.7525]], requires_grad=True)"
      ]
     },
     "execution_count": 3883,
     "metadata": {},
     "output_type": "execute_result"
    }
   ],
   "source": [
    "glm.aeys"
   ]
  },
  {
   "cell_type": "code",
   "execution_count": 3884,
   "metadata": {},
   "outputs": [
    {
     "data": {
      "text/plain": [
       "Parameter containing:\n",
       "tensor([[1.7972, 1.8713, 2.2071, 2.6576]], requires_grad=True)"
      ]
     },
     "execution_count": 3884,
     "metadata": {},
     "output_type": "execute_result"
    }
   ],
   "source": [
    "glm.bees"
   ]
  },
  {
   "cell_type": "code",
   "execution_count": null,
   "metadata": {},
   "outputs": [],
   "source": []
  },
  {
   "cell_type": "code",
   "execution_count": null,
   "metadata": {},
   "outputs": [],
   "source": []
  }
 ],
 "metadata": {
  "kernelspec": {
   "display_name": "Python 3",
   "language": "python",
   "name": "python3"
  },
  "language_info": {
   "codemirror_mode": {
    "name": "ipython",
    "version": 3
   },
   "file_extension": ".py",
   "mimetype": "text/x-python",
   "name": "python",
   "nbconvert_exporter": "python",
   "pygments_lexer": "ipython3",
   "version": "3.7.3"
  }
 },
 "nbformat": 4,
 "nbformat_minor": 2
}
