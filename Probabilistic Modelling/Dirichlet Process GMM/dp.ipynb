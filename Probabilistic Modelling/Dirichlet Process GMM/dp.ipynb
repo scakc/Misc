{
 "cells": [
  {
   "cell_type": "markdown",
   "metadata": {},
   "source": [
    "## Imporing the libs"
   ]
  },
  {
   "cell_type": "code",
   "execution_count": 279,
   "metadata": {},
   "outputs": [],
   "source": [
    "import tensorflow as tf\n",
    "import tensorflow_probability as tfp\n",
    "import numpy as np\n",
    "import matplotlib.pyplot as plt\n",
    "from scipy.stats import norm\n",
    "from scipy.stats import multivariate_normal\n",
    "from IPython.display import clear_output as clr"
   ]
  },
  {
   "cell_type": "markdown",
   "metadata": {},
   "source": [
    "### mAnUfacturing the Data for testing model..."
   ]
  },
  {
   "cell_type": "code",
   "execution_count": 280,
   "metadata": {},
   "outputs": [
    {
     "data": {
      "text/plain": [
       "(400, 2)"
      ]
     },
     "execution_count": 280,
     "metadata": {},
     "output_type": "execute_result"
    }
   ],
   "source": [
    "X = np.vstack([np.random.rand(100,2),(np.random.rand(100,2)-2),(np.random.rand(100,2)+2),(np.random.rand(100,2)+np.array([-2,2]))])\n",
    "X.shape"
   ]
  },
  {
   "cell_type": "code",
   "execution_count": 281,
   "metadata": {},
   "outputs": [
    {
     "data": {
      "text/plain": [
       "[<matplotlib.lines.Line2D at 0x7fcc0a4cbcf8>]"
      ]
     },
     "execution_count": 281,
     "metadata": {},
     "output_type": "execute_result"
    },
    {
     "data": {
      "image/png": "[encoded data removed]",
      "text/plain": [
       "<Figure size 432x288 with 1 Axes>"
      ]
     },
     "metadata": {
      "needs_background": "light"
     },
     "output_type": "display_data"
    }
   ],
   "source": [
    "plt.plot(X[:,0],X[:,1],'.')"
   ]
  },
  {
   "cell_type": "markdown",
   "metadata": {},
   "source": [
    "## Model\n",
    "\n",
    "#### Model Init"
   ]
  },
  {
   "cell_type": "code",
   "execution_count": 335,
   "metadata": {},
   "outputs": [
    {
     "name": "stdout",
     "output_type": "stream",
     "text": [
      "2.3965858188431928\n",
      "[[1.]]\n"
     ]
    }
   ],
   "source": [
    "z=[]\n",
    "c=[]\n",
    "N=X.shape[0]\n",
    "D=X.shape[1]\n",
    "K=1\n",
    "alpha=0.4\n",
    "z=np.zeros((N,K))\n",
    "\n",
    "mu_ids=np.random.choice(np.arange(N), K)\n",
    "mu = X[mu_ids,:]\n",
    "\n",
    "\n",
    "for i in range(K):\n",
    "    z[mu_ids[i],i]=1\n",
    "\n",
    "\n",
    "c = np.sum(z, axis = 0).reshape(-1,1)\n",
    "print(alpha*np.log(N))\n",
    "print(c)"
   ]
  },
  {
   "cell_type": "markdown",
   "metadata": {},
   "source": [
    "## Learning"
   ]
  },
  {
   "cell_type": "code",
   "execution_count": 336,
   "metadata": {},
   "outputs": [
    {
     "name": "stdout",
     "output_type": "stream",
     "text": [
      "Epoch : 49 399 3 Current Size : 4 N_Cluster [[ 98.  99.  98. 105.]]\n"
     ]
    }
   ],
   "source": [
    "var=np.identity(D)\n",
    "for epoch in range(50):\n",
    "    prob=[]\n",
    "    \n",
    "    for n in range(N):\n",
    "        mu_dists=[]\n",
    "        \n",
    "        x_i = X[n,:] # 1 x D vector\n",
    "        z_i = z[n,:] # 1 x K vector\n",
    "        \n",
    "        z_i_k = np.argmax(z_i)\n",
    "        \n",
    "        ## Book keeping lists ..\n",
    "        p_xi_s = [] # probs of x_i_k will be a Kx1 length list finally...\n",
    "        fracs_zis = [] # fracs values p(z_i | z_(-i)) wioll also be a Kx1 vector finally...\n",
    "        \n",
    "        \n",
    "        for k in range(K):\n",
    "            \n",
    "            # Finding Z posterior ......\n",
    "            mean=mu[k]\n",
    "            frac1=c[k]/(alpha+N-1)\n",
    "            fracs_zis.append(frac1[0])\n",
    "            p_xi_k = multivariate_normal.logpdf(x_i, mean=mean, cov=var)\n",
    "            p_xi_s.append(p_xi_k)\n",
    "            \n",
    "            \n",
    "            # Finding Mu's posterior ......\n",
    "            z_n = z[:,k].reshape(-1,1) # N x 1 vector\n",
    "            x_sum = np.sum(X*z_n, axis = 0) # D x 1 vector\n",
    "    \n",
    "\n",
    "            deno = c[k]\n",
    "            if(z_i_k == k):\n",
    "                deno -= 1\n",
    "                x_sum -= x_i\n",
    "\n",
    "            mean1=x_sum/(deno + 0.001)\n",
    "            var1= var/(deno + 0.001)\n",
    "            q1=multivariate_normal(mean=mean1, cov=var1) ## check\n",
    "            mu_dists.append(q1)\n",
    "        \n",
    "        \n",
    "        \n",
    "        # For the new cluster ....\n",
    "        frac2 = alpha/(alpha+N-1)\n",
    "        new_logprob=(-0.25* np.dot(x_i,x_i.T)) - D*np.log(2*(np.pi)**(1/2))\n",
    "        p_xi_s.append(new_logprob)\n",
    "        fracs_zis.append(frac2)\n",
    "        \n",
    "        \n",
    "        \n",
    "        # For current point the z_i ....\n",
    "        logpdfs = np.array(p_xi_s)\n",
    "        logpdfs = logpdfs - np.max(logpdfs)\n",
    "        pdfs = np.exp(logpdfs)\n",
    "        p_zi = np.array(fracs_zis)*pdfs # 1 x K+1 vector\n",
    "        p_zi = p_zi/np.sum(p_zi)\n",
    "        \n",
    "        ### Sampling the z's and mu's\n",
    "        z_i_sample = np.random.choice(np.arange(K+1), p = p_zi)\n",
    "        \n",
    "        \n",
    "        mu_list = []\n",
    "        for k in range(K):\n",
    "            mu_k = mu_dists[k].rvs()\n",
    "            mu_list.append(mu_k)\n",
    "        \n",
    "        if(z_i_sample == K):\n",
    "            mu_list.append(x_i)\n",
    "            tmp = np.zeros((N, 1))\n",
    "            z = np.hstack([z,tmp])\n",
    "            K += 1\n",
    "            \n",
    "        z[n,z_i_k] = 0\n",
    "        z[n,z_i_sample] = 1\n",
    "        \n",
    "        mu = np.array(mu_list)\n",
    "        c = np.sum(z, axis = 0).reshape(-1,1)\n",
    "        \n",
    "        idx = list(np.arange(K))\n",
    "        for i in range(K):\n",
    "            if(c[i] == 0):\n",
    "                idx.pop(i)\n",
    "                K -= 1\n",
    "        \n",
    "        z  = z[:,idx]\n",
    "        mu = mu[idx,:]\n",
    "        c = np.sum(z, axis = 0).reshape(-1,1)\n",
    "        \n",
    "    print(\"Epoch :\",epoch,n,k,\"Current Size :\", K,\"N_Cluster\", c.reshape(1,-1))\n",
    "    clr(wait = True)"
   ]
  },
  {
   "cell_type": "markdown",
   "metadata": {},
   "source": [
    "### Visualization"
   ]
  },
  {
   "cell_type": "code",
   "execution_count": 337,
   "metadata": {},
   "outputs": [
    {
     "data": {
      "image/png": "[encoded data removed]",
      "text/plain": [
       "<Figure size 432x288 with 1 Axes>"
      ]
     },
     "metadata": {
      "needs_background": "light"
     },
     "output_type": "display_data"
    }
   ],
   "source": [
    "plt.scatter(X[:,0],X[:,1], c = np.argmax(z, axis = 1))\n",
    "plt.savefig(\"Scatter.png\")\n",
    "plt.show()"
   ]
  },
  {
   "cell_type": "code",
   "execution_count": 338,
   "metadata": {},
   "outputs": [],
   "source": [
    "x_grid = np.arange(-3,4,0.05)\n",
    "y_grid = np.arange(-3,4,0.05)\n",
    "xx, yy = np.meshgrid(x_grid, y_grid)\n",
    "\n",
    "x_flat = xx.reshape(-1,1)\n",
    "y_flat = yy.reshape(-1,1)\n",
    "\n",
    "\n",
    "zz = x_flat*0\n",
    "\n",
    "for i in range(x_flat.shape[0]):\n",
    "    x_i = np.array([x_flat[i], y_flat[i]]).T\n",
    "    vec = []\n",
    "    for k in range(K):\n",
    "        mean=mu[k]\n",
    "        p_xi_k = multivariate_normal.logpdf(x_i, mean=mean, cov=var)\n",
    "        vec.append(p_xi_k)\n",
    "    \n",
    "    zz_i = np.argmax(vec)\n",
    "    zz[i] = zz_i"
   ]
  },
  {
   "cell_type": "code",
   "execution_count": 339,
   "metadata": {},
   "outputs": [
    {
     "data": {
      "image/png": "[encoded data removed]",
      "text/plain": [
       "<Figure size 432x288 with 1 Axes>"
      ]
     },
     "metadata": {
      "needs_background": "light"
     },
     "output_type": "display_data"
    }
   ],
   "source": [
    "plt.contourf(x_grid,y_grid, zz.reshape(x_grid.shape[0],x_grid.shape[0]))\n",
    "plt.savefig(\"Contourf.png\")\n",
    "plt.show()"
   ]
  },
  {
   "cell_type": "markdown",
   "metadata": {},
   "source": [
    "### Thankyou for visiting .. :)"
   ]
  }
 ],
 "metadata": {
  "kernelspec": {
   "display_name": "Python 3",
   "language": "python",
   "name": "python3"
  },
  "language_info": {
   "codemirror_mode": {
    "name": "ipython",
    "version": 3
   },
   "file_extension": ".py",
   "mimetype": "text/x-python",
   "name": "python",
   "nbconvert_exporter": "python",
   "pygments_lexer": "ipython3",
   "version": "3.6.8"
  }
 },
 "nbformat": 4,
 "nbformat_minor": 2
}
