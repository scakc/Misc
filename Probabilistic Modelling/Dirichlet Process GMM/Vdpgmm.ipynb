{
 "cells": [
  {
   "cell_type": "markdown",
   "metadata": {},
   "source": [
    "# DPGMM Truncated Variational Inference"
   ]
  },
  {
   "cell_type": "code",
   "execution_count": 28,
   "metadata": {},
   "outputs": [],
   "source": [
    "import numpy as np\n",
    "import tensorflow as tf\n",
    "import tensorflow_probability as tfp\n",
    "import matplotlib.pyplot as plt\n",
    "tfd = tfp.distributions\n",
    "tf.enable_eager_execution()"
   ]
  },
  {
   "cell_type": "code",
   "execution_count": 106,
   "metadata": {},
   "outputs": [],
   "source": [
    "from scipy.special import digamma as dgm"
   ]
  },
  {
   "cell_type": "markdown",
   "metadata": {},
   "source": [
    "### Data Generation and Visulaization"
   ]
  },
  {
   "cell_type": "code",
   "execution_count": 1092,
   "metadata": {},
   "outputs": [],
   "source": [
    "# Data Generation \n",
    "data = None\n",
    "\n",
    "num_clusters  =  6\n",
    "num_points = 1000\n",
    "scale = 3\n",
    "scale_dist = 0.2\n",
    "means = tfd.Normal(loc=[0,0], scale=scale).sample(num_clusters).numpy()\n",
    "for cluster in range(num_clusters):\n",
    "    cluster_mean = means[cluster]\n",
    "    dist = tfd.Normal(loc=cluster_mean, scale=scale_dist)\n",
    "    curr_data = dist.sample(20).numpy()\n",
    "    if(data is None):\n",
    "        data = curr_data\n",
    "    else:\n",
    "        data = np.vstack([data,curr_data])"
   ]
  },
  {
   "cell_type": "code",
   "execution_count": 1093,
   "metadata": {},
   "outputs": [
    {
     "data": {
      "text/plain": [
       "[<matplotlib.lines.Line2D at 0x7f56ceef9cf8>]"
      ]
     },
     "execution_count": 1093,
     "metadata": {},
     "output_type": "execute_result"
    },
    {
     "data": {
      "image/png": "[encoded data removed]",
      "text/plain": [
       "<Figure size 432x288 with 1 Axes>"
      ]
     },
     "metadata": {
      "needs_background": "light"
     },
     "output_type": "display_data"
    }
   ],
   "source": [
    "plt.plot(data[:,0], data[:,1], '.')"
   ]
  },
  {
   "cell_type": "markdown",
   "metadata": {},
   "source": [
    "### Truncated Variaitonal Inference ( BleiJordan 2004 )"
   ]
  },
  {
   "cell_type": "code",
   "execution_count": 1308,
   "metadata": {},
   "outputs": [],
   "source": [
    "# Setting a truncation level\n",
    "truncation_level = 10\n",
    "gamma1s = [] # Beta param 1\n",
    "gamma2s = [] # Beta param 2\n",
    "tou1s = [] # mu_t\n",
    "tou2s = [] # sigma_t\n",
    "scale_init = 10\n",
    "\n",
    "# Hyper params\n",
    "alpha = 1\n",
    "mu0 = np.array([0,0]).reshape(1,-1)\n",
    "sigma0 = np.array([100]).reshape(1,-1)\n",
    "\n",
    "# Random initializations\n",
    "for i in range(truncation_level):\n",
    "    curr_gamma1 = np.random.uniform(0.1,1)*0 + alpha\n",
    "    curr_gamma2 = np.random.uniform(0.1,1)*0 + alpha\n",
    "    curr_tou1 = np.array([np.random.rand()*scale_init, np.random.rand()*scale_init]).reshape(1,-1)\n",
    "    curr_tou2 = np.array([1]).reshape(1,-1)\n",
    "    \n",
    "    gamma1s.append(curr_gamma1)\n",
    "    gamma2s.append(curr_gamma2)\n",
    "    tou1s.append(curr_tou1)\n",
    "    tou2s.append(curr_tou2)\n",
    "\n",
    "    \n",
    "N, D = data.shape\n",
    "Z = np.random.randint(0,truncation_level,size = [N])"
   ]
  },
  {
   "cell_type": "code",
   "execution_count": 1309,
   "metadata": {},
   "outputs": [],
   "source": [
    "# Inference using Mean Field Assumption\n",
    "\n",
    "def cavi_step():\n",
    "    \n",
    "    global phis\n",
    "    # Temp Parameters will only be used at inferencing time\n",
    "    phis = np.random.rand(N,truncation_level)**2\n",
    "    phis = phis/np.sum(phis, axis=1).reshape(-1,1)\n",
    "    E_log_Vi = np.zeros((truncation_level))\n",
    "    E_log_1mVi = np.zeros((truncation_level))\n",
    "    likc = np.zeros(truncation_level)\n",
    "    \n",
    "    for t in range(truncation_level):\n",
    "        \n",
    "        \n",
    "            \n",
    "        if(t != truncation_level-1):\n",
    "            E_log_Vi[t] = dgm(gamma1s[t]) - dgm(gamma1s[t] + gamma2s[t])\n",
    "            E_log_1mVi[t] = dgm(gamma2s[t]) - dgm(gamma1s[t] + gamma2s[t])\n",
    "            likc[t] = E_log_Vi[t] + np.sum(E_log_1mVi[:t]) \n",
    "        else:\n",
    "            likc[-1] = np.log(1 - (sum(np.exp(likc[:-1]))))\n",
    "        \n",
    "        for n in range(N):\n",
    "            \n",
    "            x_n = data[n,:].reshape(1,-1)    \n",
    "            \n",
    "            delta = x_n - tou1s[t]\n",
    "            sigma_sqr = tou2s[t]\n",
    "            S_t = likc[t]  - 0.5*(D*np.log(sigma_sqr) + np.dot(delta,delta.T)/sigma_sqr) \n",
    "            \n",
    "            phis[n,t] = S_t\n",
    "        \n",
    "        \n",
    "    phis = phis - np.max(phis, axis = 1).reshape(-1,1)\n",
    "    logsumexp = np.log(np.sum(np.exp(phis), axis = 1)).reshape(-1,1)\n",
    "    phis = np.exp(phis - logsumexp)\n",
    "    phis = phis + 10e-12\n",
    "    phis = phis/np.sum(phis, axis=1).reshape(-1,1)\n",
    "    \n",
    "    \n",
    "    for t in range(truncation_level):\n",
    "        \n",
    "        gamma1s[t] = 1 + np.sum(phis[:,t])\n",
    "        gamma2s[t] = alpha  + np.sum(np.sum(phis[:,t:]))\n",
    "            \n",
    "        \n",
    "        tou1s[t] = (sigma0*np.sum(phis[:,t].reshape(N,-1)*data, axis = 0) + tou2s[t]*mu0)/(tou2s[t] + sigma0*np.sum(phis[:,t]))\n",
    "        tou2s[t] = 1# + (tou2s[t]*sigma0)/(tou2s[t] + sigma0*np.sum(phis[:,t]))\n",
    "    \n",
    "    return phis"
   ]
  },
  {
   "cell_type": "code",
   "execution_count": 1310,
   "metadata": {},
   "outputs": [],
   "source": [
    "for epoch in range(50):\n",
    "    phis = cavi_step()"
   ]
  },
  {
   "cell_type": "code",
   "execution_count": 1311,
   "metadata": {},
   "outputs": [
    {
     "data": {
      "image/png": "[encoded data removed]",
      "text/plain": [
       "<Figure size 432x288 with 1 Axes>"
      ]
     },
     "metadata": {
      "needs_background": "light"
     },
     "output_type": "display_data"
    }
   ],
   "source": [
    "for t in range(truncation_level):\n",
    "    vec = tou1s[t]\n",
    "    plt.plot(vec[0,0], vec[0,1], 'r.', markersize =12)\n",
    "plt.plot(data[:,0], data[:,1], '.')\n",
    "plt.show()"
   ]
  },
  {
   "cell_type": "code",
   "execution_count": 1312,
   "metadata": {},
   "outputs": [
    {
     "data": {
      "text/plain": [
       "<matplotlib.collections.PathCollection at 0x7f56ec3e69b0>"
      ]
     },
     "execution_count": 1312,
     "metadata": {},
     "output_type": "execute_result"
    },
    {
     "data": {
      "image/png": "[encoded data removed]",
      "text/plain": [
       "<Figure size 432x288 with 1 Axes>"
      ]
     },
     "metadata": {
      "needs_background": "light"
     },
     "output_type": "display_data"
    }
   ],
   "source": [
    "Z = np.argmax(phis,axis = 1)\n",
    "plt.scatter(data[:,0],data[:,1],c = Z)"
   ]
  },
  {
   "cell_type": "markdown",
   "metadata": {},
   "source": [
    "### Thankyou\n",
    "Abhishek Kumar"
   ]
  }
 ],
 "metadata": {
  "kernelspec": {
   "display_name": "Python 3",
   "language": "python",
   "name": "python3"
  },
  "language_info": {
   "codemirror_mode": {
    "name": "ipython",
    "version": 3
   },
   "file_extension": ".py",
   "mimetype": "text/x-python",
   "name": "python",
   "nbconvert_exporter": "python",
   "pygments_lexer": "ipython3",
   "version": "3.7.3"
  }
 },
 "nbformat": 4,
 "nbformat_minor": 2
}
