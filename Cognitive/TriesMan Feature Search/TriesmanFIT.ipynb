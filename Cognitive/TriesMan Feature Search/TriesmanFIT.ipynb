{
 "cells": [
  {
   "cell_type": "markdown",
   "metadata": {},
   "source": [
    "# Assignment 2 : Computational Cognitive Science\n",
    "### Feature Integration Theory (Triesman Simluation) with Gabor Filters\n",
    "\n",
    "We will be assuming that the scale and the orientation of shapes are fixed.\n",
    "\n",
    "### Importing Libraries"
   ]
  },
  {
   "cell_type": "code",
   "execution_count": 1,
   "metadata": {},
   "outputs": [],
   "source": [
    "import numpy as np\n",
    "import matplotlib.pyplot as plt\n",
    "import cv2\n",
    "import time \n",
    "import numpy as np\n",
    "plt.rcParams.update({'font.size': 12})"
   ]
  },
  {
   "cell_type": "markdown",
   "metadata": {},
   "source": [
    "### Defining Gabor Filter Banks"
   ]
  },
  {
   "cell_type": "code",
   "execution_count": 2,
   "metadata": {},
   "outputs": [],
   "source": [
    "def get_sqr_filter():\n",
    "    '''\n",
    "    Defining the Square filters for four edges\n",
    "    \n",
    "    returns an array of filters\n",
    "    '''\n",
    "    filters = []\n",
    "    kern = cv2.getGaborKernel((5,5), 1.0, np.pi/2, np.pi/2, 0.01, -np.pi/2, ktype=cv2.CV_32F)\n",
    "    filters.append(kern) # bottom\n",
    "    kern = cv2.getGaborKernel((5,5), 1.0, np.pi/2, -np.pi/2, 0.01, -np.pi/2, ktype=cv2.CV_32F)\n",
    "    filters.append(kern) # top\n",
    "    kern = cv2.getGaborKernel((5,5), 1.0, 0*np.pi/2, -np.pi/2, 0.01, -np.pi/2, ktype=cv2.CV_32F)\n",
    "    filters.append(kern) # right\n",
    "    kern = cv2.getGaborKernel((5,5), 1.0, 0*np.pi/2, np.pi/2, 0.01, -np.pi/2, ktype=cv2.CV_32F)\n",
    "    filters.append(kern) # left \n",
    "    \n",
    "    return filters"
   ]
  },
  {
   "cell_type": "code",
   "execution_count": 3,
   "metadata": {},
   "outputs": [],
   "source": [
    "def get_tri_filter():\n",
    "    '''\n",
    "    Defining the Triangle filters for four edges\n",
    "    \n",
    "    returns an array of filters\n",
    "    '''\n",
    "    filters = []\n",
    "    kern = cv2.getGaborKernel((5,5), 1.0, 1*np.pi/6, 2*np.pi, 0.01, -np.pi/2, ktype=cv2.CV_32F)\n",
    "    filters.append(kern) # left\n",
    "    kern = cv2.getGaborKernel((5,5), 1.0, 5*np.pi/6, 2*np.pi, 0.01, -np.pi/2, ktype=cv2.CV_32F)\n",
    "    filters.append(kern) # right\n",
    "    kern = cv2.getGaborKernel((5,5), 1.0, np.pi/2, -np.pi/2, 0.01, np.pi/2, ktype=cv2.CV_32F)\n",
    "    filters.append(kern) # bottom \n",
    "    \n",
    "    return filters"
   ]
  },
  {
   "cell_type": "markdown",
   "metadata": {},
   "source": [
    "### Classification using net mean to edge distances\n",
    "\n",
    "We notice that sqaure will have similar distances from 4 edges and so we are checking distance of thresolded filtered image means from net mean. Similarly in triangle we will use three filters and compare the distances. \n",
    "\n",
    "> Note : This method is position(translation) invariant but not scale and orientation for doing that we will need to somehow get orientation using gradients and scale by finding the local maxima in the scale space.\n"
   ]
  },
  {
   "cell_type": "code",
   "execution_count": 4,
   "metadata": {},
   "outputs": [],
   "source": [
    "def classify_sqr(img, plot = False):\n",
    "    '''\n",
    "    Classification method for Square \n",
    "    i.e : Checks if the image has a square\n",
    "    \n",
    "    return boolean result, color detected. color result is only valid if its a square\n",
    "    '''\n",
    "    \n",
    "    filters = get_sqr_filter()\n",
    "    fimgs = []\n",
    "    means = []\n",
    "    threshs = []\n",
    "    \n",
    "    for i in range(len(filters)):\n",
    "        \n",
    "        fimg = cv2.filter2D(img, cv2.CV_8UC3, filters[i])\n",
    "        thresh = (np.mean(fimg, axis =2) > 70)*255\n",
    "        mean = np.stack(np.where(thresh==255)).mean(axis =1)\n",
    "        \n",
    "        fimgs.append(fimg)\n",
    "        means.append(mean)\n",
    "        threshs.append(thresh)\n",
    "        \n",
    "    x = (means[0]+means[1]+means[2]+means[3])/4\n",
    "    temp1=np.linalg.norm(x-means[0],2) # top\n",
    "    temp2=np.linalg.norm(x-means[1],2) # bottom\n",
    "    temp3=np.linalg.norm(x-means[2],2) # right\n",
    "    temp4=np.linalg.norm(x-means[3],2) # left\n",
    "    \n",
    "    colors = ['Red', 'Green', 'Blue']\n",
    "    color_id = np.argmax(img[int(x[0]),int(x[1]),:])\n",
    "    color = colors[color_id]\n",
    "    \n",
    "    \n",
    "    \n",
    "    if(plot):\n",
    "        fig, ax = plt.subplots(2,6, figsize = [12,4])\n",
    "        ax[0][0].imshow(filters[0],cmap = 'gray')\n",
    "        ax[0][0].set_title(\"Filters used\")\n",
    "        ax[0][1].imshow(filters[1],cmap = 'gray')\n",
    "        ax[1][0].imshow(filters[2],cmap = 'gray')\n",
    "        ax[1][1].imshow(filters[3],cmap = 'gray')\n",
    "        \n",
    "        ax[0][2].imshow(threshs[0],cmap = 'gray')\n",
    "        ax[0][2].set_title(\"Thresolded Image\")\n",
    "        ax[0][3].imshow(threshs[1],cmap = 'gray')\n",
    "        ax[1][2].imshow(threshs[2],cmap = 'gray')\n",
    "        ax[1][3].imshow(threshs[3],cmap = 'gray')\n",
    "        \n",
    "        ax[0][4].imshow(fimgs[0],cmap = 'gray')\n",
    "        ax[0][4].set_title(\"Filtered Image\")\n",
    "        ax[0][5].imshow(fimgs[1],cmap = 'gray')\n",
    "        ax[1][4].imshow(fimgs[2],cmap = 'gray')\n",
    "        ax[1][5].imshow(fimgs[3],cmap = 'gray')\n",
    "        \n",
    "        \n",
    "        if(abs((temp1/temp2)-1) < 0.1 and abs((temp3/temp4)-1) < 0.1):\n",
    "            print(\"Yes ! It's a Square :) with\",color,\"Color\")\n",
    "            plt.savefig(\"Filtered Result Sqaure.png\")\n",
    "            \n",
    "            return 1, color_id\n",
    "        else:\n",
    "            print(\"No ! It's not a Square :(\") \n",
    "            return 0, color_id\n",
    "        \n",
    "    if(abs((temp1/temp2)-1) < 0.1 and abs((temp3/temp4)-1) < 0.1):\n",
    "        return 1, color_id\n",
    "    else:\n",
    "        return 0, color_id"
   ]
  },
  {
   "cell_type": "code",
   "execution_count": 5,
   "metadata": {},
   "outputs": [],
   "source": [
    "def classify_tri(img, plot = False):\n",
    "    '''\n",
    "    Classification method for Triangle \n",
    "    i.e : Checks if the image has a triangle\n",
    "    \n",
    "    return boolean result, color detected. color result is only valid if its a square\n",
    "    '''\n",
    "    filters = get_tri_filter()\n",
    "    fimgs = []\n",
    "    means = []\n",
    "    threshs = []\n",
    "    \n",
    "    for i in range(len(filters)):\n",
    "        \n",
    "        fimg = cv2.filter2D(img, cv2.CV_8UC3, filters[i])\n",
    "        thresh = (np.mean(fimg, axis =2) > 70)*255\n",
    "        mean = np.stack(np.where(thresh==255)).mean(axis =1)\n",
    "        \n",
    "        fimgs.append(fimg)\n",
    "        means.append(mean)\n",
    "        threshs.append(thresh)\n",
    "        \n",
    "    x = (means[0]+means[1]+means[2])/3\n",
    "    temp1=np.linalg.norm(x-means[0],2) # left\n",
    "    temp2=np.linalg.norm(x-means[1],2) # right\n",
    "    temp3=np.linalg.norm(x-means[2],2) # bottom\n",
    "    \n",
    "    colors = ['Red', 'Green', 'Blue']\n",
    "    color_id = np.argmax(img[int(x[0]),int(x[1]),:])\n",
    "    color = colors[color_id]\n",
    "    \n",
    "    \n",
    "    ## This part is just for plotting and better visulaizations....\n",
    "    if(plot):\n",
    "        fig, ax = plt.subplots(2,6, figsize = [12,4])\n",
    "        ax[0][0].imshow(filters[0],cmap = 'gray')\n",
    "        ax[0][0].set_title(\"Filters used\")\n",
    "        ax[0][1].imshow(filters[1],cmap = 'gray')\n",
    "        ax[1][0].imshow(filters[2],cmap = 'gray')\n",
    "        \n",
    "        ax[0][2].imshow(threshs[0],cmap = 'gray')\n",
    "        ax[0][2].set_title(\"Thresholded Images\")\n",
    "        ax[0][3].imshow(threshs[1],cmap = 'gray')\n",
    "        ax[1][2].imshow(threshs[2],cmap = 'gray')\n",
    "        \n",
    "        ax[0][4].imshow(fimgs[0],cmap = 'gray')\n",
    "        ax[0][4].set_title(\"Filtered Images\")\n",
    "        ax[0][5].imshow(fimgs[1],cmap = 'gray')\n",
    "        ax[1][4].imshow(fimgs[2],cmap = 'gray')\n",
    "        \n",
    "        \n",
    "        \n",
    "        if(abs((temp1/temp2)-1) < 0.1 and abs((temp2/temp3)-1) < 0.1 and abs((temp3/temp1)-1) < 0.1):\n",
    "            print(\"Yes ! It's a Triangle :) with\",color,\"Color\")\n",
    "            plt.savefig(\"Filtered Result Triangle.png\")\n",
    "            \n",
    "            return 1, color_id\n",
    "        else:\n",
    "            print(\"No ! It's not a Triangle :(\") \n",
    "            return 0, color_id\n",
    "        \n",
    "    if(abs((temp1/temp2)-1) < 0.1 and abs((temp2/temp3)-1) < 0.1 and abs((temp3/temp1)-1) < 0.1):\n",
    "        return 1, color_id\n",
    "    else:\n",
    "        return 0, color_id"
   ]
  },
  {
   "cell_type": "markdown",
   "metadata": {},
   "source": [
    "## Q1. Test for Shape detection \n",
    "\n",
    "We will be detecting the shapes and color of the images in below few lines\n"
   ]
  },
  {
   "cell_type": "markdown",
   "metadata": {},
   "source": [
    "### Trianlge Detection"
   ]
  },
  {
   "cell_type": "code",
   "execution_count": 6,
   "metadata": {},
   "outputs": [
    {
     "data": {
      "image/png": "[encoded data removed]",
      "text/plain": [
       "<Figure size 144x144 with 1 Axes>"
      ]
     },
     "metadata": {
      "needs_background": "light"
     },
     "output_type": "display_data"
    }
   ],
   "source": [
    "# Importing a triangle image\n",
    "# Note : the image should contain only one image and should have a size of 50, 50 for it tbe effective\n",
    "img = cv2.cvtColor(cv2.imread('tri_red.png'),cv2.COLOR_BGR2RGB) # replace with any image of your preference\n",
    "fig = plt.figure(figsize = (2,2))\n",
    "plt.imshow(img)\n",
    "plt.show()"
   ]
  },
  {
   "cell_type": "code",
   "execution_count": 7,
   "metadata": {},
   "outputs": [
    {
     "name": "stdout",
     "output_type": "stream",
     "text": [
      "Yes ! It's a Triangle :) with Red Color\n"
     ]
    },
    {
     "data": {
      "image/png": "[encoded data removed]",
      "text/plain": [
       "<Figure size 864x288 with 12 Axes>"
      ]
     },
     "metadata": {
      "needs_background": "light"
     },
     "output_type": "display_data"
    }
   ],
   "source": [
    "shape, color = classify_tri(img, plot = True)"
   ]
  },
  {
   "cell_type": "code",
   "execution_count": 8,
   "metadata": {},
   "outputs": [
    {
     "name": "stdout",
     "output_type": "stream",
     "text": [
      "No ! It's not a Square :(\n"
     ]
    },
    {
     "data": {
      "image/png": "[encoded data removed]",
      "text/plain": [
       "<Figure size 864x288 with 12 Axes>"
      ]
     },
     "metadata": {
      "needs_background": "light"
     },
     "output_type": "display_data"
    }
   ],
   "source": [
    "shape, color = classify_sqr(img, plot = True)"
   ]
  },
  {
   "cell_type": "markdown",
   "metadata": {},
   "source": [
    "As you have seen that the filters are detecting edges of each orientation and domain knowledge about the shapes help us classify them as triangle, same can be done for the square look below."
   ]
  },
  {
   "cell_type": "markdown",
   "metadata": {},
   "source": [
    "### Square Detection"
   ]
  },
  {
   "cell_type": "code",
   "execution_count": 9,
   "metadata": {},
   "outputs": [
    {
     "data": {
      "image/png": "[encoded data removed]",
      "text/plain": [
       "<Figure size 144x144 with 1 Axes>"
      ]
     },
     "metadata": {
      "needs_background": "light"
     },
     "output_type": "display_data"
    }
   ],
   "source": [
    "# Importing a triangle image\n",
    "# Note : the image should contain only one image and should have a size of 50, 50 for it tbe effective\n",
    "img = cv2.cvtColor(cv2.imread('sqr_blue.png'),cv2.COLOR_BGR2RGB) # replace with any image of your preference\n",
    "fig = plt.figure(figsize = (2,2))\n",
    "plt.imshow(img)\n",
    "plt.show()"
   ]
  },
  {
   "cell_type": "code",
   "execution_count": 10,
   "metadata": {},
   "outputs": [
    {
     "name": "stdout",
     "output_type": "stream",
     "text": [
      "No ! It's not a Triangle :(\n"
     ]
    },
    {
     "data": {
      "image/png": "[encoded data removed]",
      "text/plain": [
       "<Figure size 864x288 with 12 Axes>"
      ]
     },
     "metadata": {
      "needs_background": "light"
     },
     "output_type": "display_data"
    }
   ],
   "source": [
    "shape, color = classify_tri(img, plot = True)"
   ]
  },
  {
   "cell_type": "code",
   "execution_count": 11,
   "metadata": {},
   "outputs": [
    {
     "name": "stdout",
     "output_type": "stream",
     "text": [
      "Yes ! It's a Square :) with Blue Color\n"
     ]
    },
    {
     "data": {
      "image/png": "[encoded data removed]",
      "text/plain": [
       "<Figure size 864x288 with 12 Axes>"
      ]
     },
     "metadata": {
      "needs_background": "light"
     },
     "output_type": "display_data"
    }
   ],
   "source": [
    "shape, color = classify_sqr(img, plot = True)"
   ]
  },
  {
   "cell_type": "markdown",
   "metadata": {},
   "source": [
    "Moving towards the feature integration theory we will need a image containing multiple instance of traingles and squares with different colors\n",
    "\n",
    "## Q2. Obtaining Image frames with shape and color\n",
    "\n",
    "#### Generation of a image cotaining multiple traingles and squares with different colors."
   ]
  },
  {
   "cell_type": "code",
   "execution_count": 12,
   "metadata": {},
   "outputs": [],
   "source": [
    "# Defining the color values and shape values variables for ease of coding..\n",
    "RED = 1\n",
    "BLU = 0\n",
    "GRN = -1\n",
    "ccode = [RED, GRN, BLU]\n",
    "SQR = 0\n",
    "TRI = 1\n",
    "OTR = -1"
   ]
  },
  {
   "cell_type": "markdown",
   "metadata": {},
   "source": [
    "### The random test case generation funtion......\n",
    "\n",
    "Below function generates a random image based on test for which you want to generate the image using a configuration"
   ]
  },
  {
   "cell_type": "code",
   "execution_count": 13,
   "metadata": {},
   "outputs": [],
   "source": [
    "def gen_random_image(dims = 500, n_objects = 10, config = None):\n",
    "    '''\n",
    "    Config file is require to define the type of test image to be generated\n",
    "    '''\n",
    "    if(config is None):\n",
    "        config = {\n",
    "            \"type_gen\" : \"feature\", # type of search for which test case is generated\n",
    "            \"fs_const\" : \"color\", # what feature to keep constant accross non odd images\n",
    "            \"odd_color\" : RED, # Color of odd image\n",
    "            \"odd_shape\" : TRI # Shape of odd image\n",
    "        }\n",
    "    \n",
    "    # Loading Images..................................\n",
    "    sqr_blue = cv2.cvtColor(cv2.imread('sqr_blue.png'),cv2.COLOR_BGR2RGB)\n",
    "    sqr_red = cv2.cvtColor(cv2.imread('sqr_red.png'),cv2.COLOR_BGR2RGB)\n",
    "    tri_blue = cv2.cvtColor(cv2.imread('tri_blue.png'),cv2.COLOR_BGR2RGB)\n",
    "    tri_red = cv2.cvtColor(cv2.imread('tri_red.png'),cv2.COLOR_BGR2RGB)\n",
    "    \n",
    "    images = [[sqr_blue, sqr_red], [tri_blue, tri_red]]\n",
    "    img_dim = 50\n",
    "    \n",
    "    C_cells = int(dims/img_dim)\n",
    "    R_cells = int(dims/img_dim)\n",
    "    \n",
    "    N_cells = C_cells*R_cells\n",
    "    \n",
    "    # Initializing the grid ....................\n",
    "    Grid = (np.zeros((dims,dims,3))+255).astype(np.uint8)\n",
    "    \n",
    "    # Selecting the patches to be filled...............\n",
    "    choices = np.random.choice(np.arange(N_cells), n_objects, replace=False)\n",
    "    \n",
    "    if(config[\"type_gen\"] == \"feature\"):\n",
    "        odd_img = images[config[\"odd_shape\"]][config[\"odd_color\"]]\n",
    "        if(config[\"fs_const\"] == \"color\"):\n",
    "            even_img = images[1-config[\"odd_shape\"]][config[\"odd_color\"]]\n",
    "        else:\n",
    "            even_img = images[config[\"odd_shape\"]][1-config[\"odd_color\"]]\n",
    "            \n",
    "        for k in range(choices.shape[0]):\n",
    "            choice = choices[k]\n",
    "            i = int(choice//R_cells)*img_dim\n",
    "            j = int(choice%C_cells)*img_dim\n",
    "            \n",
    "            if(k != choices.shape[0]-1):\n",
    "                Grid[i:i+img_dim, j:j+img_dim] = even_img\n",
    "            else:\n",
    "                Grid[i:i+img_dim, j:j+img_dim] = odd_img\n",
    "                \n",
    "    if(config[\"type_gen\"] == \"conjunction\"):\n",
    "        odd_img = images[config[\"odd_shape\"]][config[\"odd_color\"]]\n",
    "        if(config[\"fs_const\"] == \"shape\"):\n",
    "            even_img = [\n",
    "                images[1-config[\"odd_shape\"]][config[\"odd_color\"]], \n",
    "                images[config[\"odd_shape\"]][1-config[\"odd_color\"]]\n",
    "            ]\n",
    "        elif(config[\"fs_const\"] == \"color\"):\n",
    "            even_img = [\n",
    "                images[config[\"odd_shape\"]][1-config[\"odd_color\"]],\n",
    "                images[1-config[\"odd_shape\"]][config[\"odd_color\"]]\n",
    "            ]\n",
    "        else:\n",
    "            even_img = [\n",
    "                images[config[\"odd_shape\"]][1-config[\"odd_color\"]],\n",
    "                images[1-config[\"odd_shape\"]][1-config[\"odd_color\"]],\n",
    "                images[1-config[\"odd_shape\"]][config[\"odd_color\"]]\n",
    "            ]\n",
    "            \n",
    "        \n",
    "            \n",
    "        for k in range(choices.shape[0]):\n",
    "            choice = choices[k]\n",
    "            i = int(choice//R_cells)*img_dim\n",
    "            j = int(choice%C_cells)*img_dim\n",
    "            \n",
    "            if(k != choices.shape[0]-1):\n",
    "                Grid[i:i+img_dim, j:j+img_dim] = even_img[np.random.choice(np.arange(len(even_img)))]\n",
    "            else:\n",
    "                Grid[i:i+img_dim, j:j+img_dim] = odd_img\n",
    "        \n",
    "    return Grid"
   ]
  },
  {
   "cell_type": "code",
   "execution_count": 14,
   "metadata": {},
   "outputs": [],
   "source": [
    "# Defining the odd image triesman seach configurations for feature based and conjunction based...\n",
    "config1 = {\n",
    "            \"type_gen\" : \"feature\", # type of search for which test case is generated\n",
    "            \"fs_const\" : \"color\", # what feature to keep constant accross non odd images\n",
    "            \"odd_color\" : BLU, # Color of odd image\n",
    "            \"odd_shape\" : SQR # Shape of odd image\n",
    "        }\n",
    "config2 = {\n",
    "            \"type_gen\" : \"conjunction\", # type of search for which test case is generated\n",
    "            \"fs_const\" : \"shape\", # what feature to keep constant accross non odd images\n",
    "            \"odd_color\" : RED, # Color of odd image\n",
    "            \"odd_shape\" : SQR # Shape of odd image\n",
    "        }"
   ]
  },
  {
   "cell_type": "code",
   "execution_count": 15,
   "metadata": {},
   "outputs": [
    {
     "data": {
      "image/png": "[encoded data removed]",
      "text/plain": [
       "<Figure size 576x288 with 2 Axes>"
      ]
     },
     "metadata": {
      "needs_background": "light"
     },
     "output_type": "display_data"
    }
   ],
   "source": [
    "# Generating the image examples .....\n",
    "fig, ax = plt.subplots(1,2, figsize=[8,4])\n",
    "img = gen_random_image(dims = 500, n_objects = 20, config = config1)\n",
    "ax[0].imshow(img)\n",
    "ax[0].set_title(\"Feature\")\n",
    "img = gen_random_image(dims = 500, n_objects = 20, config = config2)\n",
    "ax[1].imshow(img)\n",
    "ax[1].set_title(\"Conjunction\")\n",
    "plt.savefig(\"Generated Image.png\")\n",
    "plt.show()"
   ]
  },
  {
   "cell_type": "markdown",
   "metadata": {},
   "source": [
    "### Defining the feature grids generating function......\n",
    "\n",
    "The Below function generates the grids of color maps and the shape maps of a given test image. "
   ]
  },
  {
   "cell_type": "code",
   "execution_count": 16,
   "metadata": {},
   "outputs": [],
   "source": [
    "def get_grids(img, config = None):\n",
    "    \n",
    "    N_cells = img.shape[0]//50\n",
    "    shape_grid = np.ones((N_cells, N_cells))*OTR\n",
    "    color_grid = np.ones((N_cells, N_cells))*OTR\n",
    "    \n",
    "    for i in range(N_cells):\n",
    "        for j in range(N_cells):\n",
    "            sub_img = img[i*50:i*50+50, j*50:j*50+50]\n",
    "            if(sub_img.mean()-255 > -5):\n",
    "                pass\n",
    "            else:\n",
    "                shape, color = classify_sqr(sub_img, plot=False)\n",
    "                if(shape == 1):\n",
    "                    shape_grid[i,j] = SQR\n",
    "                    color_grid[i,j] = ccode[color]\n",
    "                else:\n",
    "                    pass\n",
    "                \n",
    "                shape, color = classify_tri(sub_img, plot=False)\n",
    "                if(shape == 1):\n",
    "                    shape_grid[i,j] = TRI\n",
    "                    color_grid[i,j] = ccode[color]\n",
    "                else:\n",
    "                    pass    \n",
    "                \n",
    "    return color_grid, shape_grid    "
   ]
  },
  {
   "cell_type": "code",
   "execution_count": 17,
   "metadata": {},
   "outputs": [
    {
     "data": {
      "image/png": "[encoded data removed]",
      "text/plain": [
       "<Figure size 1008x288 with 3 Axes>"
      ]
     },
     "metadata": {
      "needs_background": "light"
     },
     "output_type": "display_data"
    }
   ],
   "source": [
    "## Finding the grid results ....\n",
    "c_grid, s_grid = get_grids(img)\n",
    "fig, ax = plt.subplots(1,3 , figsize = [14,4])\n",
    "ax[0].imshow(s_grid)\n",
    "ax[0].set_title(\"Shape Matrix\")\n",
    "ax[1].imshow(c_grid)\n",
    "ax[1].set_title(\"Color Matrix\")\n",
    "ax[2].imshow(img)\n",
    "ax[2].set_title(\"Image Matrix\")\n",
    "plt.savefig(\"Feature Maps.png\")\n",
    "plt.show()"
   ]
  },
  {
   "cell_type": "markdown",
   "metadata": {},
   "source": [
    "## Q3. Defining the Feature Integration Method to detect the Odd frame\n",
    "\n",
    "### Defining the searching function ....\n",
    "\n",
    "The basic idea we use here is after getting the attention maps we only need to look for one property in feature search whereas we look for two properties simultaneously in the conjucntion search. We have delayed until information from all relevant stores has been retrieved"
   ]
  },
  {
   "cell_type": "code",
   "execution_count": 37,
   "metadata": {},
   "outputs": [],
   "source": [
    "def search_odd_loc(c_grid, s_grid):\n",
    "\n",
    "    '''\n",
    "    Searches whole image for odd image based on feature or conjuction search \n",
    "    returns : location of the grid cell that contains the odd image\n",
    "    '''\n",
    "    \n",
    "    dim_r = c_grid.shape[0]\n",
    "    dim_c = c_grid.shape[1]\n",
    "    \n",
    "    seq = np.where((c_grid != GRN)*(s_grid != OTR))\n",
    "    \n",
    "    if(seq[0].shape[0]==0):\n",
    "        return\n",
    "    \n",
    "    start_time = time.time()\n",
    "    ##### trying Feature Search first...........\n",
    "    # RED, BLUE, SQR, TRI\n",
    "    locs = [[0,0],[0,0],[0,0],[0,0]] \n",
    "    flags = [True, True, True, True] \n",
    "    counts = [0,0,0,0]\n",
    "        \n",
    "    for k in range(seq[0].shape[0]):\n",
    "        i = seq[0][k]\n",
    "        j = seq[1][k]\n",
    "\n",
    "        if(flags[0]):\n",
    "            if(c_grid[i,j] == RED):\n",
    "\n",
    "                counts[0] += 1\n",
    "                if(counts[0] > 1):\n",
    "                    flags[0] = False\n",
    "                elif(counts[0] == 1):\n",
    "                    locs[0] = [i,j]\n",
    "\n",
    "        if(flags[1]):\n",
    "            if(c_grid[i,j] == BLU):\n",
    "\n",
    "                counts[1] += 1\n",
    "                if(counts[1] > 1):\n",
    "                    flags[1] = False\n",
    "                elif(counts[1] == 1):\n",
    "                    locs[1] = [i,j]\n",
    "\n",
    "\n",
    "        if(flags[2]):\n",
    "            if(s_grid[i,j] == SQR):\n",
    "\n",
    "                counts[2] += 1\n",
    "                if(counts[2] > 1):\n",
    "                    flags[2] = False\n",
    "                elif(counts[2] == 1):\n",
    "                    locs[2] = [i,j]\n",
    "\n",
    "\n",
    "        if(flags[3]):\n",
    "            if(s_grid[i,j] == TRI):\n",
    "\n",
    "                counts[3] += 1\n",
    "                if(counts[3] > 1):\n",
    "                    flags[3] = False\n",
    "                elif(counts[3] == 1):\n",
    "                    locs[3] = [i,j]\n",
    "    map_feat = np.where((np.array(counts)==1)*(np.array(flags)==True))\n",
    "    if(map_feat[0].shape[0]!= 0):\n",
    "        ret_time = time.time()-start_time\n",
    "        return locs[map_feat[0][0]], ret_time\n",
    "    else:\n",
    "        pass\n",
    "    \n",
    "    #### Feature Search did not work reseted the time and starting the conjucntion search.........\n",
    "    # RED, BLUE, SQR, TRI\n",
    "    locs = [[0,0],[0,0],[0,0],[0,0]] \n",
    "    flags = [True, True, True, True] \n",
    "    counts = [0,0,0,0]\n",
    "    \n",
    "    for k in range(seq[0].shape[0]):\n",
    "        i = seq[0][k]\n",
    "        j = seq[1][k]\n",
    "        if(flags[0]):\n",
    "            time.sleep(0.000001)\n",
    "            if((c_grid[i,j] == RED)*(s_grid[i,j] == SQR)):\n",
    "                counts[0] += 1\n",
    "                if(counts[0] > 1):\n",
    "                    flags[0] = False\n",
    "                elif(counts[0] == 1):\n",
    "                    locs[0] = [i,j]\n",
    "\n",
    "        if(flags[1]):\n",
    "            time.sleep(0.000001)\n",
    "            if((c_grid[i,j] == BLU)*(s_grid[i,j] == SQR)):\n",
    "                locs[1] = [i,j]\n",
    "                counts[1] += 1\n",
    "                if(counts[1] > 1):\n",
    "                    flags[1] = False\n",
    "                elif(counts[1] == 1):\n",
    "                    locs[1] = [i,j]\n",
    "\n",
    "\n",
    "        if(flags[2]):\n",
    "            time.sleep(0.000001)\n",
    "            if((s_grid[i,j] == TRI)*(c_grid[i,j] == RED)):\n",
    "                counts[2] += 1\n",
    "                if(counts[2] > 1):\n",
    "                    flags[2] = False\n",
    "                elif(counts[2] == 1):\n",
    "                    locs[2] = [i,j]\n",
    "\n",
    "\n",
    "        if(flags[3]):\n",
    "            time.sleep(0.000001)\n",
    "            if((s_grid[i,j] == TRI)*(c_grid[i,j] == BLU)):\n",
    "                counts[3] += 1\n",
    "                if(counts[3] > 1):\n",
    "                    flags[3] = False\n",
    "                elif(counts[3] == 1):\n",
    "                    locs[3] = [i,j]\n",
    "\n",
    "    map_conj = np.where((np.array(counts)==1)*(np.array(flags)==True))\n",
    "    if(map_conj[0].shape[0]!= 0):\n",
    "        ret_time = time.time()-start_time\n",
    "        return locs[map_conj[0][0]], ret_time\n",
    "    else:\n",
    "        pass\n",
    "    \n",
    "    return [0,0]"
   ]
  },
  {
   "cell_type": "markdown",
   "metadata": {},
   "source": [
    "### Putting it all Together :: Combination of small pieces leads to big wonders\n",
    "\n",
    "We now have all the pieces to put togeather and make a working model.\n",
    "We are now going to define a function that takes a image and search time as parameters and returns time taken, location of odd image as output.\n",
    "\n",
    "> **NOTE** :: We have assumed \n",
    "</br>\n",
    ">**Definition of Odd Image** : Has only one instance in whole image. "
   ]
  },
  {
   "cell_type": "code",
   "execution_count": 38,
   "metadata": {},
   "outputs": [],
   "source": [
    "def find_odd(img , ret_mod = True):\n",
    "    \n",
    "    '''\n",
    "    Takes image and type to return location and the time taken for odd search\n",
    "    ret_mod : True if you want modified image in output with framed output image\n",
    "    '''\n",
    "    \n",
    "    c_grid, s_grid = get_grids(img)\n",
    "    \n",
    "    loc_odd, ret_time = search_odd_loc(c_grid, s_grid)\n",
    "    \n",
    "    if(loc_odd is None):\n",
    "        return None, None, None\n",
    "    \n",
    "    \n",
    "    loc_ret = [loc_odd[0]*50,loc_odd[1]*50]\n",
    "    if(ret_mod):\n",
    "        sub_img = img[loc_odd[0]*50:loc_odd[0]*50+50,loc_odd[1]*50:loc_odd[1]*50+50]\n",
    "        sub_img[0:5,:,:] = 0\n",
    "        sub_img[-5:,:,:] = 0\n",
    "        sub_img[:,-5:,:] = 0\n",
    "        sub_img[:,0:5,:] = 0\n",
    "        img[loc_odd[0]*50:loc_odd[0]*50+50,loc_odd[1]*50:loc_odd[1]*50+50] = sub_img\n",
    "        \n",
    "        return ret_time, loc_ret, img\n",
    "    else:\n",
    "        return ret_time, loc_ret, None"
   ]
  },
  {
   "cell_type": "code",
   "execution_count": 39,
   "metadata": {},
   "outputs": [],
   "source": [
    "# Defining the odd image triesman seach configuration\n",
    "config = {\n",
    "            \"type_gen\" : \"conjunction\",\n",
    "            \"fs_const\" : \"color\",\n",
    "            \"odd_color\" : BLU,\n",
    "            \"odd_shape\" : SQR,\n",
    "        }"
   ]
  },
  {
   "cell_type": "code",
   "execution_count": 40,
   "metadata": {},
   "outputs": [
    {
     "data": {
      "image/png": "[encoded data removed]",
      "text/plain": [
       "<Figure size 576x288 with 2 Axes>"
      ]
     },
     "metadata": {
      "needs_background": "light"
     },
     "output_type": "display_data"
    }
   ],
   "source": [
    "# Generating the image with given config.....\n",
    "fig, ax  = plt.subplots(1,2, figsize = [8,4])\n",
    "img = gen_random_image(dims = 500, n_objects = 20, config = config)\n",
    "ax[0].imshow(img)\n",
    "net_time, loc, img_mod = find_odd(img.copy() , ret_mod = True)\n",
    "ax[1].imshow(img_mod)\n",
    "plt.savefig(\"Framed Odd Image.png\")\n",
    "plt.show()"
   ]
  },
  {
   "cell_type": "markdown",
   "metadata": {},
   "source": [
    "## Visulaizing response time vs Numbers of objects\n",
    "\n",
    "Here we can see the different behaviours we see in conjuction vs feature based search.\n",
    "This may take some time depending on size and number of steps you have given why don't you drink tea mean whille :)."
   ]
  },
  {
   "cell_type": "code",
   "execution_count": 41,
   "metadata": {},
   "outputs": [],
   "source": [
    "time_ft = []\n",
    "time_cn = []\n",
    "iters = 35\n",
    "dim_max = 500\n",
    "step = 2\n",
    "for i in range(1,iters):\n",
    "    config = {\n",
    "            \"type_gen\" : \"conjunction\",\n",
    "            \"fs_const\" : \"shape\",\n",
    "            \"odd_color\" : RED,\n",
    "            \"odd_shape\" : TRI,\n",
    "    }\n",
    "    img = gen_random_image(dims = dim_max, n_objects = (i)*step, config = config)\n",
    "#     plt.imshow(img)\n",
    "#     plt.show()\n",
    "    net_time, loc, _ = find_odd(img, ret_mod = False)\n",
    "    time_cn.append(net_time)\n",
    "    config = {\n",
    "            \"type_gen\" : \"feature\",\n",
    "            \"fs_const\" : \"color\",\n",
    "            \"odd_color\" : BLU,\n",
    "            \"odd_shape\" : SQR,\n",
    "    }\n",
    "    img = gen_random_image(dims = dim_max, n_objects = (i)*step, config = config)  \n",
    "    net_time, loc, _ = find_odd(img, ret_mod = False)\n",
    "    time_ft.append(net_time)"
   ]
  },
  {
   "cell_type": "code",
   "execution_count": 42,
   "metadata": {},
   "outputs": [
    {
     "data": {
      "image/png": "[encoded data removed]",
      "text/plain": [
       "<Figure size 576x432 with 1 Axes>"
      ]
     },
     "metadata": {
      "needs_background": "light"
     },
     "output_type": "display_data"
    }
   ],
   "source": [
    "fig = plt.figure(figsize = [8,6])\n",
    "plt.plot(np.arange(0,len(time_ft)*step, step),np.array(time_ft)*1000000,'--*', label = \"Feature\")\n",
    "plt.plot(np.arange(0,len(time_cn)*step, step),np.array(time_cn)*1000000,'--s', label = \"Conjunction\")\n",
    "plt.legend()\n",
    "plt.title(\"Feature Search vs Conjunction Search\")\n",
    "plt.xlabel(\"Number of Objects to detect\")\n",
    "plt.ylabel(\"Response time (micro seconds)\")\n",
    "plt.savefig(\"FeatvsConj.png\")\n",
    "plt.show()"
   ]
  },
  {
   "cell_type": "markdown",
   "metadata": {},
   "source": [
    "We Conclude by saying that the image time responses are as expected for conjuction vs feature based search."
   ]
  },
  {
   "cell_type": "markdown",
   "metadata": {},
   "source": [
    "## Thankyou by\n",
    "\n",
    "#### Abhishek Kumar, Niharika Ahuja\n",
    "\n",
    "18111002, 18111045"
   ]
  }
 ],
 "metadata": {
  "kernelspec": {
   "display_name": "Python 3",
   "language": "python",
   "name": "python3"
  },
  "language_info": {
   "codemirror_mode": {
    "name": "ipython",
    "version": 3
   },
   "file_extension": ".py",
   "mimetype": "text/x-python",
   "name": "python",
   "nbconvert_exporter": "python",
   "pygments_lexer": "ipython3",
   "version": "3.6.8"
  }
 },
 "nbformat": 4,
 "nbformat_minor": 2
}
